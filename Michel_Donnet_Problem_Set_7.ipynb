{
 "cells": [
  {
   "cell_type": "code",
   "execution_count": null,
   "metadata": {},
   "outputs": [],
   "source": []
  },
  {
   "attachments": {},
   "cell_type": "markdown",
   "metadata": {},
   "source": [
    "# TP7"
   ]
  },
  {
   "attachments": {},
   "cell_type": "markdown",
   "metadata": {},
   "source": [
    "## Problème 1 (20 points) À nettoyer !!!!!!!!!!!!!!!!!!!!!!!!!!!!"
   ]
  },
  {
   "attachments": {},
   "cell_type": "markdown",
   "metadata": {},
   "source": [
    "Prouvez que :\n",
    "$$H(X, Y | Z) \\geq H(X | Z)"
   ]
  },
  {
   "attachments": {},
   "cell_type": "markdown",
   "metadata": {},
   "source": [
    "On a:\n",
    "$$H(X, Y|Z) = -\\sum_{x \\in X} \\sum_{y \\in Y} \\sum_{z \\in Z} p_{X, Y, Z}(x, y, z)log_2(p_{X, Y | Z}(x, y | z))$$"
   ]
  },
  {
   "attachments": {},
   "cell_type": "markdown",
   "metadata": {},
   "source": [
    "Or\n",
    "$$H(X, Y) \\geq H(X)$$\n",
    "Donc cela nous donne:\n",
    "$$-\\sum_{x \\in X} \\sum_{y \\in Y} \\sum_{z \\in Z} p_{X, Y, Z}(x, y, z)log_2(p_{X, Y | Z}(x, y | z))\n",
    "\\geq -\\sum_{x \\in X} \\sum_{y \\in Y} \\sum_{z \\in Z} p_{X, Z}(x, z)log_2(p_{X | Z}(x | z))"
   ]
  },
  {
   "attachments": {},
   "cell_type": "markdown",
   "metadata": {},
   "source": [
    "Test 2\n",
    "On a:\n",
    "$$H(X, Y, Z) = H(Z) + H(X|Z) + H(Y|X, Z)$$\n",
    "$$H(X, Y|Z) = H(X|Z) + H(Y|X, Z) \\geq H(X|Z)$$\n",
    "Apperement, l'idée est bonne..."
   ]
  },
  {
   "attachments": {},
   "cell_type": "markdown",
   "metadata": {},
   "source": [
    "Test 2 Suite:\n",
    "Selon les règles de chainage, on a:\n",
    "$$p(x, y, z) = p(z)p(x|z)p(y|x, z)$$\n",
    "De plus, on a:\n",
    "$$p(X|Y) = \\frac{p(X, Y)}{p(Y)}$$\n",
    "Donc:\n",
    "$$p(x, y|z) = \\frac{p(x, y, z)}{p(z)}$$\n",
    "Donc:\n",
    "$$p(x, y|z) = \\frac{p(z)p(x|z)p(y|x, z)}{p(z)} = p(x|z)p(y|x, z)$$\n",
    "De plus:\n",
    "$$p(x|z) = \\frac{p(x, z)}{p(z)}$$\n",
    "et\n",
    "$$p(y|x, z) = \\frac{p(x, y, z)}{p(x, z)}$$\n",
    "Donc:\n",
    "$$H(X, Y|Z) = -\\sum_{x \\in X} \\sum_{y \\in Y} \\sum_{z \\in Z}p(x, y, z)log_2(p(x, y |z))$$\n",
    "$$= -\\sum_{x \\in X} \\sum_{y \\in Y} \\sum_{z \\in Z}p(x, y, z)log_2(p(x|z)p(y|x, z))$$\n",
    "$$= -\\sum_{x \\in X} \\sum_{y \\in Y} \\sum_{z \\in Z}p(x, y, z)log_2(p(x|z)) - \\sum_{x \\in X} \\sum_{y \\in Y} \\sum_{z \\in Z}p(x, y, z)log_2(p(y|x, z))$$\n",
    "$$= -\\sum_{x \\in X} \\sum_{z \\in Z}p(x, z)log_2(p(x|z)) - \\sum_{x \\in X} \\sum_{y \\in Y} \\sum_{z \\in Z}p(x, y, z)log_2(p(y|x, z))$$\n",
    "$$= H(X|Z) - \\sum_{x \\in X} \\sum_{y \\in Y} \\sum_{z \\in Z}p(x, y, z)log_2(\\frac{p(x, y, z)}{p(x, z)})$$\n",
    "$$= H(X|Z) - \\sum_{x \\in X} \\sum_{y \\in Y} \\sum_{z \\in Z}p(x, y, z)log_2(p(x, y, z)) + \\sum_{x \\in X} \\sum_{y \\in Y} \\sum_{z \\in Z}p(x, y, z)log_2(p(x, z))$$\n",
    "$$= H(X|Z) + H(X, Y, Z) + \\sum_{x \\in X} \\sum_{z \\in Z}p(x, z)log_2(p(x, z))$$\n",
    "$$= H(X|Z) + H(X, Y, Z) - H(X, Z)$$\n",
    "et\n",
    "$$H(X, Y, Z) - H(X, Z) = H(Z) + H(X|Z) + H(Y|Z, X) - H(Z) - H(X|Z) = H(Y|Z, X)$$\n",
    "Comme on est dans un cas discret, on a l'entropie qui est toujours positive, soit $H(Y|Z, X) \\geq 0$\n",
    "\n",
    "Donc:\n",
    "$$H(X, Y|Z) = H(X|Z) + H(Y|Z, X) \\geq H(X|Z)$$"
   ]
  },
  {
   "attachments": {},
   "cell_type": "markdown",
   "metadata": {},
   "source": [
    "## Problème 2 (15 points)"
   ]
  },
  {
   "attachments": {},
   "cell_type": "markdown",
   "metadata": {},
   "source": [
    "Soient X et Y deux variables aléatoires avec une probabilité conjointe donnée dans le tableau\n",
    "suivant :\n",
    "| X | Y | p(x, y)|\n",
    "|---|--|--|\n",
    "| 0 | 0 | 1/8 |\n",
    "| 0 | 1 | 1/4 |\n",
    "| 1 | 0 | 1/8 |\n",
    "| 1 | 1 | 1/4 |\n",
    "| 2 | 0 | 0 |\n",
    "| 2 | 1 | 1/4 |"
   ]
  },
  {
   "attachments": {},
   "cell_type": "markdown",
   "metadata": {},
   "source": [
    "Commençons par créer la table de contingence. Cela nous donne:\n",
    "|X\\Y| 0 | 1 |\n",
    "|---|--|--|\n",
    "| 0 | 1/8 |1/4|\n",
    "| 1 |1/8|1/4|\n",
    "| 2 |0|1/4|"
   ]
  },
  {
   "attachments": {},
   "cell_type": "markdown",
   "metadata": {},
   "source": [
    "On a donc:\n",
    "$$p(X = 0) = p(X = 0, Y = 0) + p(X = 0, Y = 1) = \\frac{1}{8} + \\frac{1}{4} = \\frac{3}{8}$$\n",
    "$$p(X = 1) = \\frac{1}{8} + \\frac{1}{4} = \\frac{3}{8}$$\n",
    "$$p(X = 2) = \\frac{1}{4}$$\n",
    "$$p(Y = 0) = p(X = 0, Y = 0) + p(X = 1, Y = 0) + p(X = 2, Y = 0) = \\frac{1}{8} + \\frac{1}{8} + 0 = \\frac{1}{4}$$\n",
    "$$p(Y = 1) = \\frac{1}{4} + \\frac{1}{4} + \\frac{1}{4} = \\frac{3}{4}$$\n",
    "\n",
    "1.  Calculez l'information mutuelle de X et Y selon la définition:\n",
    "   $$ I(X;Y) = E_{p(x, y)}[log_2\\frac{p(x, y)}{p(x)p(y)}]$$\n",
    "   On a:\n",
    "   $$ I(X;Y) = E_{p(x, y)}[log_2\\frac{p(x, y)}{p(x)p(y)}] = \\sum_{x \\in X} \\sum_{y \\in Y}p(x, y)log_2\\frac{p(x, y)}{p(x)p(y)}$$\n",
    "   Donc:\n",
    "   $$ I(X; Y) = \\sum_{x \\in X} \\sum_{y \\in Y}p(x, y)log_2\\frac{p(x, y)}{p(x)p(y)}$$\n",
    "   $$=p(X = 0, Y = 0)log_2\\frac{p(X = 0, Y = 0)}{p(X = 0)p(Y = 0)} + p(X = 0, Y = 1)log_2\\frac{p(X = 0, Y = 1)}{p(X = 0)p(Y = 1)} + p(X = 1, Y = 0)log_2\\frac{p(X = 1, Y = 0)}{p(X = 1)p(Y = 0)}$$\n",
    "   $$+p(X = 1, Y = 1)log_2\\frac{p(X = 1, Y = 1)}{p(X = 1)p(Y = 1)} + p(X = 2, Y = 0)log_2\\frac{p(X = 2, Y = 0)}{p(X = 2)p(Y = 0)} + p(X = 2, Y = 1)log_2\\frac{p(X = 2, Y = 1)}{p(X = 2)p(Y = 1)}$$\n",
    "   $$= \\frac{1}{8}log_2\\frac{1}{8}\\frac{8}{3}4 + \\frac{1}{4}log_2\\frac{1}{4}\\frac{8}{3}\\frac{4}{3} + \\frac{1}{8}log_2\\frac{1}{8}\\frac{8}{3}4 + \\frac{1}{4}log_2\\frac{1}{4}\\frac{8}{3}\\frac{4}{3} + 0 + \\frac{1}{4}log_2\\frac{1}{4}\\frac{4}{3}4$$\n",
    "   $$= \\frac{1}{4}log_2\\frac{4}{3} + \\frac{1}{2}log_2\\frac{8}{9} + \\frac{1}{4}log_2\\frac{4}{3}$$\n",
    "   $$= \\boxed{0.12255624891826565}$$"
   ]
  },
  {
   "cell_type": "code",
   "execution_count": 1,
   "metadata": {},
   "outputs": [
    {
     "name": "stdout",
     "output_type": "stream",
     "text": [
      "0.12255624891826565\n"
     ]
    }
   ],
   "source": [
    "import numpy as np\n",
    "\n",
    "result = 1/4 * np.log2(4/3) + 1/2 * np.log2(8/9) + 1/4 * np.log2(4/3)\n",
    "print(result)"
   ]
  },
  {
   "attachments": {},
   "cell_type": "markdown",
   "metadata": {},
   "source": [
    "2. Comparez votre résultat avec :\n",
    "   1. $I(X; Y ) = H(X) − H(X|Y )$\n",
    "   2. $I(X; Y ) = H(Y ) − H(Y |X)$\n",
    "   \n",
    "et concluez sur l’équivalence des résultats obtenus\n",
    "\n",
    "   On a:\n",
    "   $$H(X) = -\\sum_{x \\in X}p(X = x)log_2p(X = x)$$\n",
    "   et:\n",
    "   $$H(X, Y) = -\\sum_{x \\in X}\\sum_{y \\in Y}p(X = x, Y = y)log_2p(X = x, Y = y)$$\n",
    "   Donc:\n",
    "   $$H(X) = -p(X = 0)log_2p(X = 0)- p(X = 1)log_2p(X = 1) - p(X = 2)log_2p(X = 2) = -\\frac{3}{4}log_2\\frac{3}{8} + \\frac{1}{2} = \\boxed{1.561278124459133}$$\n",
    "   $$H(Y) = -p(Y = 0)log_2p(Y = 0)- p(Y = 1)log_2p(Y = 1) = 1/2 - \\frac{3}{4}log_2\\frac{3}{4} = \\boxed{0.8112781244591328}$$\n",
    "   Soit $p(X = x, Y = y) = p(x, y)$. On a alors:\n",
    "   $$H(X, Y) = -p(0, 0)log_2p(0, 0) - p(0, 1)log_2p(0, 1) - p(1, 0)log_2p(1, 0) - p(1, 1)log_2p(1, 1) - p(2, 0)log_2p(2, 0) - p(2, 1)log_2p(2, 1)$$\n",
    "   Donc:\n",
    "   $$H(X, Y) = \\frac{3}{4} + \\frac{3}{2} = \\boxed{2.25}$$\n",
    "   Selon les règles de chainage, on a que:\n",
    "   $$H(X, Y) = H(X) + H(Y | X) \\ \\Leftrightarrow \\  H(Y|X) = H(X, Y) - H(X)$$\n",
    "   et:\n",
    "   $$H(X, Y) = H(Y) + H(X|Y) \\ \\Leftrightarrow \\ H(X | Y) = H(X, Y) - H(Y)$$\n",
    "   Donc:\n",
    "   $$H(X|Y) = 2.25 - 0.8112781244591328 = \\boxed{1.438721875540867}$$\n",
    "   $$H(Y | X) = 2.25 - 1.561278124459133 = \\boxed{0.6887218755408671}$$\n",
    "   Cela nous donne:\n",
    "   1. $I(X; Y ) = H(X) − H(X|Y ) \\ \\Leftrightarrow \\ 0.12255624891826565 = 1.561278124459133 - 1.438721875540867 \\ \\Leftrightarrow \\ 0.12255624891826565 = 0.12255624891826589$\n",
    "\n",
    "      Donc: $I(X; Y ) = H(X) − H(X|Y )$ car ce n'est pas égal uniquement à cause de la précision de la machine et des arrondis faits par celle-ci...\n",
    "\n",
    "   2. $I(X; Y ) = H(Y) − H(Y|X ) \\ \\Leftrightarrow \\ 0.12255624891826565 = 0.8112781244591328 - 0.6887218755408671 \\ \\Leftrightarrow \\ 0.12255624891826565 = 0.12255624891826589$\n",
    "\n",
    "      Donc: $I(X; Y ) = H(X) − H(X|Y )$ car ce n'est pas égal pour les mêmes raisons que précédement."
   ]
  },
  {
   "cell_type": "code",
   "execution_count": 4,
   "metadata": {},
   "outputs": [
    {
     "name": "stdout",
     "output_type": "stream",
     "text": [
      "H(X):\n",
      "1.561278124459133\n",
      "H(Y|X):\n",
      "0.6887218755408671\n",
      "H(Y):\n",
      "0.8112781244591328\n",
      "H(X|Y):\n",
      "1.438721875540867\n"
     ]
    }
   ],
   "source": [
    "result = -3/4 * np.log2(3/8) + 1/2\n",
    "print(\"H(X):\")\n",
    "print(result)\n",
    "print(\"H(Y|X):\")\n",
    "print(2.25 - result)\n",
    "result = 1/2 - 3/4 * np.log2(3/4)\n",
    "print(\"H(Y):\")\n",
    "print(result)\n",
    "print(\"H(X|Y):\")\n",
    "print(2.25 - result)"
   ]
  },
  {
   "cell_type": "code",
   "execution_count": 11,
   "metadata": {},
   "outputs": [
    {
     "name": "stdout",
     "output_type": "stream",
     "text": [
      "0.12255624891826589\n",
      "0.12255624891826578\n"
     ]
    }
   ],
   "source": [
    "print(1.561278124459133 - 1.438721875540867)\n",
    "print(0.8112781244591328 - 0.6887218755408671)"
   ]
  },
  {
   "attachments": {},
   "cell_type": "markdown",
   "metadata": {},
   "source": [
    "## Problème 5 (20 points)"
   ]
  },
  {
   "attachments": {},
   "cell_type": "markdown",
   "metadata": {},
   "source": [
    "Prouvez l'égalité:\n",
    "$$arg \\: min_{q(x)}H(p(x), q(x)) = arg \\: min_{q(x)}D_{KL}(p(x)||q(x))$$\n",
    "On a:\n",
    "$$H(p(x), q(x)) = -\\sum_{x \\in X}p(x)log_2(q(x))$$\n",
    "et:\n",
    "$$D_{KL}(p(x)||q(x)) = \\sum_{x \\in X}p(x)log_2(\\frac{p(x)}{q(x)})$$\n",
    "Soit:\n",
    "$$arg \\: min_{q(x)}D_{KL}(p(x)||q(x))$$\n",
    "$$= arg \\: min_{q(x)}\\sum_{x \\in X}p(x)log_2(\\frac{p(x)}{q(x)})$$\n",
    "$$= arg \\: min_{q(x)}(\\sum_{x \\in X}p(x)log_2(p(x)) - \\sum_{x \\in X}p(x)log_2(q(x)))$$\n",
    "Comme on cherche à minimiser par rappor à $q(x)$, on peut oublier les termes qui n'ont aucun rapport avec $q(x)$. Donc:\n",
    "$$arg \\: min_{q(x)}(\\sum_{x \\in X}p(x)log_2(p(x)) - \\sum_{x \\in X}p(x)log_2(q(x)))$$\n",
    "$$= arg \\: min_{q(x)}(- \\sum_{x \\in X}p(x)log_2(q(x)))$$\n",
    "$$= arg \\: min_{q(x)}H(p(x), q(x))$$\n",
    "Donc:\n",
    "$$arg \\: min_{q(x)}H(p(x), q(x)) = arg \\: min_{q(x)}D_{KL}(p(x)||q(x))$$"
   ]
  },
  {
   "cell_type": "markdown",
   "metadata": {},
   "source": []
  }
 ],
 "metadata": {
  "kernelspec": {
   "display_name": "Python 3",
   "language": "python",
   "name": "python3"
  },
  "language_info": {
   "codemirror_mode": {
    "name": "ipython",
    "version": 3
   },
   "file_extension": ".py",
   "mimetype": "text/x-python",
   "name": "python",
   "nbconvert_exporter": "python",
   "pygments_lexer": "ipython3",
   "version": "3.9.2"
  },
  "orig_nbformat": 4
 },
 "nbformat": 4,
 "nbformat_minor": 2
}
