{
 "cells": [
  {
   "cell_type": "code",
   "execution_count": null,
   "metadata": {},
   "outputs": [],
   "source": []
  },
  {
   "attachments": {},
   "cell_type": "markdown",
   "metadata": {},
   "source": [
    "# TP7"
   ]
  },
  {
   "attachments": {},
   "cell_type": "markdown",
   "metadata": {},
   "source": [
    "## Problème 1 (20 points)"
   ]
  },
  {
   "attachments": {},
   "cell_type": "markdown",
   "metadata": {},
   "source": [
    "Prouvez que :\n",
    "$$H(X, Y | Z) \\geq H(X | Z)"
   ]
  },
  {
   "attachments": {},
   "cell_type": "markdown",
   "metadata": {},
   "source": [
    "On a:\n",
    "$$H(X, Y|Z) = -\\sum_{x \\in X} \\sum_{y \\in Y} \\sum_{z \\in Z} p_{X, Y, Z}(x, y, z)log_2(p_{X, Y | Z}(x, y | z))$$"
   ]
  },
  {
   "attachments": {},
   "cell_type": "markdown",
   "metadata": {},
   "source": [
    "Or\n",
    "$$H(X, Y) \\geq H(X)$$\n",
    "Donc cela nous donne:\n",
    "$$-\\sum_{x \\in X} \\sum_{y \\in Y} \\sum_{z \\in Z} p_{X, Y, Z}(x, y, z)log_2(p_{X, Y | Z}(x, y | z))\n",
    "\\geq -\\sum_{x \\in X} \\sum_{y \\in Y} \\sum_{z \\in Z} p_{X, Z}(x, z)log_2(p_{X | Z}(x | z))"
   ]
  },
  {
   "attachments": {},
   "cell_type": "markdown",
   "metadata": {},
   "source": [
    "Test 2\n",
    "On a:\n",
    "$$H(X, Y, Z) = H(Z) + H(X|Z) + H(Y|X, Z)$$\n",
    "$$H(X, Y|Z) = H(X|Z) + H(Y|X, Z) \\geq H(X|Z)$$\n",
    "Apperement, l'idée est bonne..."
   ]
  },
  {
   "attachments": {},
   "cell_type": "markdown",
   "metadata": {},
   "source": [
    "Test 2 Suite:\n",
    "Selon les règles de chainage, on a:\n",
    "$$p(x, y, z) = p(z)p(x|z)p(y|x, z)$$\n",
    "De plus, on a:\n",
    "$$p(X|Y) = \\frac{p(X, Y)}{p(Y)}$$\n",
    "Donc:\n",
    "$$p(x, y|z) = \\frac{p(x, y, z)}{p(z)}$$\n",
    "Donc:\n",
    "$$p(x, y|z) = \\frac{p(z)p(x|z)p(y|x, z)}{p(z)} = p(x|z)p(y|x, z)$$\n",
    "De plus:\n",
    "$$p(x|z) = \\frac{p(x, z)}{p(z)}$$\n",
    "et\n",
    "$$p(y|x, z) = \\frac{p(x, y, z)}{p(x, z)}$$\n",
    "Donc:\n",
    "$$H(X, Y|Z) = -\\sum_{x \\in X} \\sum_{y \\in Y} \\sum_{z \\in Z}p(x, y, z)log_2(p(x, y |z))$$\n",
    "$$= -\\sum_{x \\in X} \\sum_{y \\in Y} \\sum_{z \\in Z}p(x, y, z)log_2(p(x|z)p(y|x, z))$$\n",
    "$$= -\\sum_{x \\in X} \\sum_{y \\in Y} \\sum_{z \\in Z}p(x, y, z)log_2(p(x|z)) - \\sum_{x \\in X} \\sum_{y \\in Y} \\sum_{z \\in Z}p(x, y, z)log_2(p(y|x, z))$$\n",
    "$$= -\\sum_{x \\in X} \\sum_{z \\in Z}p(x, z)log_2(p(x|z)) - \\sum_{x \\in X} \\sum_{y \\in Y} \\sum_{z \\in Z}p(x, y, z)log_2(p(y|x, z))$$\n",
    "$$= H(X|Z) - \\sum_{x \\in X} \\sum_{y \\in Y} \\sum_{z \\in Z}p(x, y, z)log_2(\\frac{p(x, y, z)}{p(x, z)})$$\n",
    "$$= H(X|Z) - \\sum_{x \\in X} \\sum_{y \\in Y} \\sum_{z \\in Z}p(x, y, z)log_2(p(x, y, z)) + \\sum_{x \\in X} \\sum_{y \\in Y} \\sum_{z \\in Z}p(x, y, z)log_2(p(x, z))$$\n",
    "$$= H(X|Z) + H(X, Y, Z) + \\sum_{x \\in X} \\sum_{z \\in Z}p(x, z)log_2(p(x, z))$$\n",
    "$$= H(X|Z) + H(X, Y, Z) - H(X, Z)$$\n",
    "et\n",
    "$$H(X, Y, Z) - H(X, Z) = H(Z) + H(X|Z) + H(Y|Z, X) - H(Z) - H(X|Z) = H(Y|Z, X)$$\n",
    "Comme on est dans un cas discret, on a l'entropie qui est toujours positive, soit $H(Y|Z, X) \\geq 0$\n",
    "\n",
    "Donc:\n",
    "$$H(X, Y|Z) = H(X|Z) + H(Y|Z, X) \\geq H(X|Z)$$"
   ]
  },
  {
   "attachments": {},
   "cell_type": "markdown",
   "metadata": {},
   "source": [
    "## Problème 2 (15 points)"
   ]
  },
  {
   "attachments": {},
   "cell_type": "markdown",
   "metadata": {},
   "source": [
    "Soient X et Y deux variables aléatoires avec une probabilité conjointe donnée dans le tableau\n",
    "suivant :\n",
    "| X | Y | p(x, y)|\n",
    "|---|--|--|\n",
    "| 0 | 0 | 1/8 |\n",
    "| 0 | 1 | 1/4 |\n",
    "| 1 | 0 | 1/8 |\n",
    "| 1 | 1 | 1/4 |\n",
    "| 2 | 0 | 0 |\n",
    "| 2 | 1 | 1/4 |"
   ]
  },
  {
   "attachments": {},
   "cell_type": "markdown",
   "metadata": {},
   "source": [
    "Commençons par créer la table de contingence. Cela nous donne:\n",
    "|X\\Y| 0 | 1 |\n",
    "|---|--|--|\n",
    "| 0 | 1/8 |1/4|\n",
    "| 1 |1/8|1/4|\n",
    "| 2 |0|1/4|"
   ]
  },
  {
   "attachments": {},
   "cell_type": "markdown",
   "metadata": {},
   "source": [
    "On a donc:\n",
    "$$p(X = 0) = p(X = 0, Y = 0) + p(X = 0, Y = 1) = \\frac{1}{8} + \\frac{1}{4} = \\frac{3}{8}$$\n",
    "$$p(X = 1) = \\frac{1}{8} + \\frac{1}{4} = \\frac{3}{8}$$\n",
    "$$p(X = 2) = \\frac{1}{4}$$\n",
    "$$p(Y = 0) = p(X = 0, Y = 0) + p(X = 1, Y = 0) + p(X = 2, Y = 0) = \\frac{1}{8} + \\frac{1}{8} + 0 = \\frac{1}{4}$$\n",
    "$$p(Y = 1) = \\frac{1}{4} + \\frac{1}{4} + \\frac{1}{4} = \\frac{3}{4}$$"
   ]
  },
  {
   "attachments": {},
   "cell_type": "markdown",
   "metadata": {},
   "source": [
    "## Problème 5 (20 points)"
   ]
  },
  {
   "attachments": {},
   "cell_type": "markdown",
   "metadata": {},
   "source": [
    "Prouvez l'égalité:\n",
    "$$arg \\: min_{q(x)}H(p(x), q(x)) = arg \\: min_{q(x)}D_{KL}(p(x)||q(x))$$\n",
    "On a:\n",
    "$$H(p(x), q(x)) = -\\sum_{x \\in X}p(x)log_2(q(x))$$\n",
    "et:\n",
    "$$D_{KL}(p(x)||q(x)) = \\sum_{x \\in X}p(x)log_2(\\frac{p(x)}{q(x)})$$\n",
    "Soit:\n",
    "$$arg \\: min_{q(x)}D_{KL}(p(x)||q(x))$$\n",
    "$$= arg \\: min_{q(x)}\\sum_{x \\in X}p(x)log_2(\\frac{p(x)}{q(x)})$$\n",
    "$$= arg \\: min_{q(x)}(\\sum_{x \\in X}p(x)log_2(p(x)) - \\sum_{x \\in X}p(x)log_2(q(x)))$$\n",
    "Comme on cherche à minimiser par rappor à $q(x)$, on peut oublier les termes qui n'ont aucun rapport avec $q(x)$. Donc:\n",
    "$$arg \\: min_{q(x)}(\\sum_{x \\in X}p(x)log_2(p(x)) - \\sum_{x \\in X}p(x)log_2(q(x)))$$\n",
    "$$= arg \\: min_{q(x)}(- \\sum_{x \\in X}p(x)log_2(q(x)))$$\n",
    "$$= arg \\: min_{q(x)}H(p(x), q(x))$$\n",
    "Donc:\n",
    "$$arg \\: min_{q(x)}H(p(x), q(x)) = arg \\: min_{q(x)}D_{KL}(p(x)||q(x))$$"
   ]
  },
  {
   "cell_type": "markdown",
   "metadata": {},
   "source": []
  }
 ],
 "metadata": {
  "language_info": {
   "name": "python"
  },
  "orig_nbformat": 4
 },
 "nbformat": 4,
 "nbformat_minor": 2
}
