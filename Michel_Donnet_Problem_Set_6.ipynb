{
 "cells": [
  {
   "attachments": {},
   "cell_type": "markdown",
   "metadata": {},
   "source": [
    "# Série 6"
   ]
  },
  {
   "attachments": {},
   "cell_type": "markdown",
   "metadata": {},
   "source": [
    "## Problème 1 (40 points)"
   ]
  },
  {
   "attachments": {},
   "cell_type": "markdown",
   "metadata": {},
   "source": [
    "Soient X et Y deux variables aléatoires binaires et Z = X ⊕ Y , où ⊕ dénote l’opération\n",
    "XOR."
   ]
  },
  {
   "attachments": {},
   "cell_type": "markdown",
   "metadata": {},
   "source": [
    "1. Montrez que H(Z|X) = H(Y |X)."
   ]
  },
  {
   "attachments": {},
   "cell_type": "markdown",
   "metadata": {},
   "source": [
    "On a que:\n",
    "$$H(Z|X) = \\sum_{x \\in X}p(X = x)H(Z|X = x)$$\n",
    "et\n",
    "$$H(Y|X) = \\sum_{y \\in Y}p(X = x)H(Y|X = x)$$"
   ]
  },
  {
   "attachments": {},
   "cell_type": "markdown",
   "metadata": {},
   "source": [
    "- Soit X = 0. On a:\n",
    "  \n",
    "  $$H(Z|X = 0) = -\\sum_{z \\in Z}p(Z = z|X = 0)log_2(p(Z = z| X = 0)) = -p(Z = 0| X = 0)log_2(p(Z = 0|X=0)) - p(Z = 1| X = 0)log_2(p(Z = 1| X = 0))$$\n",
    "  et\n",
    "  $$H(Y|X = 0) = -\\sum_{y \\in Y}p(Y = y|X = 0)log_2(p(Y = y| X = 0)) = -p(Y = 0| X = 0)log_2(p(Y = 0|X=0)) - p(Y = 1| X = 0)log_2(p(Y = 1| X = 0))$$\n",
    "\n",
    "  De plus on a:\n",
    "  - Si Y = 0, alors Z = 0\n",
    "  - Si Y = 1, alors Z = 1\n",
    "  - Si Z = 0, alors Y = 0\n",
    "  - Si Z = 1, alors Y = 1\n",
    "  \n",
    "  Donc:\n",
    "\n",
    "  - p(Z = 0|X = 0) = p(Y = 0|X = 0)\n",
    "  - p(Z = 1|X = 0) = p(Y = 1|X = 0)\n",
    "\n",
    "  Donc:\n",
    "  $$-p(Z = 0| X = 0)log_2(p(Z = 0|X=0)) - p(Z = 1| X = 0)log_2(p(Z = 1| X = 0)) = -p(Y = 0| X = 0)log_2(p(Y = 0|X=0)) - p(Y = 1| X = 0)log_2(p(Y = 1| X = 0))$$\n",
    "  Soit\n",
    "  $$H(Z|X = 0) = H(Y|X = 0)$$"
   ]
  },
  {
   "attachments": {},
   "cell_type": "markdown",
   "metadata": {},
   "source": [
    "- Soit X = 1. On a:\n",
    "  \n",
    "  $$H(Z|X = 1) = -\\sum_{z \\in Z}p(Z = z|X = 1)log_2(p(Z = z| X = 1)) = -p(Z = 0| X = 1)log_2(p(Z = 0|X=1)) - p(Z = 1| X = 1)log_2(p(Z = 1| X = 1))$$\n",
    "  et\n",
    "  $$H(Y|X = 1) = -\\sum_{y \\in Y}p(Y = y|X = 1)log_2(p(Y = y| X = 1)) = -p(Y = 0| X = 1)log_2(p(Y = 0|X=1)) - p(Y = 1| X = 1)log_2(p(Y = 1| X = 1))$$\n",
    "\n",
    "  De plus on a:\n",
    "  - Si Y = 0, alors Z = 1\n",
    "  - Si Y = 1, alors Z = 0\n",
    "  - Si Z = 0, alors Y = 1\n",
    "  - Si Z = 1, alors Y = 0\n",
    "  \n",
    "  Donc:\n",
    "\n",
    "  - p(Z = 0|X = 0) = p(Y = 1|X = 0)\n",
    "  - p(Z = 1|X = 0) = p(Y = 0|X = 0)\n",
    "\n",
    "  Donc:\n",
    "  $$-p(Z = 0| X = 0)log_2(p(Z = 0|X=0)) - p(Z = 1| X = 0)log_2(p(Z = 1| X = 0)) = -p(Y = 1| X = 0)log_2(p(Y = 1|X=0)) - p(Y = 0| X = 0)log_2(p(Y = 0| X = 0))$$\n",
    "  Soit\n",
    "  $$H(Z|X = 1) = H(Y|X = 1)$$"
   ]
  },
  {
   "attachments": {},
   "cell_type": "markdown",
   "metadata": {},
   "source": [
    "Donc comme $H(Z|X = 0) = H(Y|X = 0)$ et $H(Z|X = 1) = H(Y|X = 1)$, alors on a:\n",
    "$$\\sum_{x \\in X}p(X = x)H(Z|X = x) = \\sum_{y \\in Y}p(X = x)H(Y|X = x)$$\n",
    "Donc:\n",
    "$$H(Y|X) = H(Z|X)$$"
   ]
  },
  {
   "cell_type": "markdown",
   "metadata": {},
   "source": []
  }
 ],
 "metadata": {
  "language_info": {
   "name": "python"
  },
  "orig_nbformat": 4
 },
 "nbformat": 4,
 "nbformat_minor": 2
}
