{
 "cells": [
  {
   "attachments": {},
   "cell_type": "markdown",
   "metadata": {},
   "source": [
    "# Série 6"
   ]
  },
  {
   "attachments": {},
   "cell_type": "markdown",
   "metadata": {},
   "source": [
    "## Problème 1 (40 points)"
   ]
  },
  {
   "attachments": {},
   "cell_type": "markdown",
   "metadata": {},
   "source": [
    "Soient X et Y deux variables aléatoires binaires et Z = X ⊕ Y , où ⊕ dénote l’opération\n",
    "XOR."
   ]
  },
  {
   "attachments": {},
   "cell_type": "markdown",
   "metadata": {},
   "source": [
    "1. Montrez que H(Z|X) = H(Y |X)."
   ]
  },
  {
   "attachments": {},
   "cell_type": "markdown",
   "metadata": {},
   "source": [
    "On a que:\n",
    "$$H(Z|X) = \\sum_{x \\in X}p(X = x)H(Z|X = x)$$\n",
    "et\n",
    "$$H(Y|X) = \\sum_{y \\in Y}p(X = x)H(Y|X = x)$$"
   ]
  },
  {
   "attachments": {},
   "cell_type": "markdown",
   "metadata": {},
   "source": [
    "- Soit X = 0. On a:\n",
    "  \n",
    "  $$H(Z|X = 0) = -\\sum_{z \\in Z}p(Z = z|X = 0)log_2(p(Z = z| X = 0)) = -p(Z = 0| X = 0)log_2(p(Z = 0|X=0)) - p(Z = 1| X = 0)log_2(p(Z = 1| X = 0))$$\n",
    "  et\n",
    "  $$H(Y|X = 0) = -\\sum_{y \\in Y}p(Y = y|X = 0)log_2(p(Y = y| X = 0)) = -p(Y = 0| X = 0)log_2(p(Y = 0|X=0)) - p(Y = 1| X = 0)log_2(p(Y = 1| X = 0))$$\n",
    "\n",
    "  De plus on a:\n",
    "  - Si Y = 0, alors Z = 0\n",
    "  - Si Y = 1, alors Z = 1\n",
    "  - Si Z = 0, alors Y = 0\n",
    "  - Si Z = 1, alors Y = 1\n",
    "  \n",
    "  Donc:\n",
    "\n",
    "  - p(Z = 0|X = 0) = p(Y = 0|X = 0)\n",
    "  - p(Z = 1|X = 0) = p(Y = 1|X = 0)\n",
    "\n",
    "  Donc:\n",
    "  $$-p(Z = 0| X = 0)log_2(p(Z = 0|X=0)) - p(Z = 1| X = 0)log_2(p(Z = 1| X = 0)) = -p(Y = 0| X = 0)log_2(p(Y = 0|X=0)) - p(Y = 1| X = 0)log_2(p(Y = 1| X = 0))$$\n",
    "  Soit\n",
    "  $$H(Z|X = 0) = H(Y|X = 0)$$"
   ]
  },
  {
   "attachments": {},
   "cell_type": "markdown",
   "metadata": {},
   "source": [
    "- Soit X = 1. On a:\n",
    "  \n",
    "  $$H(Z|X = 1) = -\\sum_{z \\in Z}p(Z = z|X = 1)log_2(p(Z = z| X = 1)) = -p(Z = 0| X = 1)log_2(p(Z = 0|X=1)) - p(Z = 1| X = 1)log_2(p(Z = 1| X = 1))$$\n",
    "  et\n",
    "  $$H(Y|X = 1) = -\\sum_{y \\in Y}p(Y = y|X = 1)log_2(p(Y = y| X = 1)) = -p(Y = 0| X = 1)log_2(p(Y = 0|X=1)) - p(Y = 1| X = 1)log_2(p(Y = 1| X = 1))$$\n",
    "\n",
    "  De plus on a:\n",
    "  - Si Y = 0, alors Z = 1\n",
    "  - Si Y = 1, alors Z = 0\n",
    "  - Si Z = 0, alors Y = 1\n",
    "  - Si Z = 1, alors Y = 0\n",
    "  \n",
    "  Donc:\n",
    "\n",
    "  - p(Z = 0|X = 0) = p(Y = 1|X = 0)\n",
    "  - p(Z = 1|X = 0) = p(Y = 0|X = 0)\n",
    "\n",
    "  Donc:\n",
    "  $$-p(Z = 0| X = 0)log_2(p(Z = 0|X=0)) - p(Z = 1| X = 0)log_2(p(Z = 1| X = 0)) = -p(Y = 1| X = 0)log_2(p(Y = 1|X=0)) - p(Y = 0| X = 0)log_2(p(Y = 0| X = 0))$$\n",
    "  Soit\n",
    "  $$H(Z|X = 1) = H(Y|X = 1)$$"
   ]
  },
  {
   "attachments": {},
   "cell_type": "markdown",
   "metadata": {},
   "source": [
    "Donc comme $H(Z|X = 0) = H(Y|X = 0)$ et $H(Z|X = 1) = H(Y|X = 1)$, alors on a:\n",
    "$$\\sum_{x \\in X}p(X = x)H(Z|X = x) = \\sum_{y \\in Y}p(X = x)H(Y|X = x)$$\n",
    "Donc:\n",
    "$$H(Y|X) = H(Z|X)$$"
   ]
  },
  {
   "attachments": {},
   "cell_type": "markdown",
   "metadata": {},
   "source": [
    "2. Sous quelles conditions $H(X, Y ) = H(X) + H(Y )$ ?\n",
    "   \n",
    "   On a selon les 'chain rules' que:\n",
    "    $$H(X, Y) = H(X) + H(Y|X)$$\n",
    "    Donc si $H(Y | X ) = H(Y)$ (Le fait de connaître $X$ ne change rien à l'entropie de Y), en d'autres termes si $X$ et $Y$ sont indépendants, on a bien que:\n",
    "    $$H(X, Y) = H(X) + H(Y|X)$$"
   ]
  },
  {
   "attachments": {},
   "cell_type": "markdown",
   "metadata": {},
   "source": [
    "3. Montrez que si X et Y sont indépendants, H(Z) ≥ H(X) et H(Z) ≥ H(Y )."
   ]
  },
  {
   "attachments": {},
   "cell_type": "markdown",
   "metadata": {},
   "source": [
    "Supposons que X et Y soient indépendants. Donc:\n",
    "\n",
    "$$H(X, Y) = H(X) + H(Y)$$\n",
    "\n",
    "Selon le point 1, on a $H(Z|X) = H(Y|X)$, donc selon les 'chain rules':\n",
    "$$H(X, Y) = H(X) + H(Y|X) = H(X) + H(Z|X) = H(X) + H(Y)$$\n",
    "Soit on a:\n",
    "$$H(X) + H(Z|X) = H(X) + H(Y)\n",
    "\\Leftrightarrow H(Z|X) = H(Y)\n",
    "$$\n",
    "Selon le problème 3 du Problem_Set_5, on a que:\n",
    "$$H(X|Y) \\leq H(X)$$\n",
    "Donc:\n",
    "$$ H(Z|X) = H(Y)\n",
    "\\Leftrightarrow H(Z) \\geq H(Y)$$\n"
   ]
  },
  {
   "attachments": {},
   "cell_type": "markdown",
   "metadata": {},
   "source": [
    "De plus,\n",
    "$$H(X, Y) = H(X) + H(Y)\n",
    "\\Leftrightarrow $$\n",
    "__Il faut continuer ici__"
   ]
  },
  {
   "attachments": {},
   "cell_type": "markdown",
   "metadata": {},
   "source": [
    "## Problème 2 (30 points)."
   ]
  },
  {
   "attachments": {},
   "cell_type": "markdown",
   "metadata": {},
   "source": [
    "Soit $X$ une variable aléatoire avec trois valeurs possibles : $X = \\{a, b, c\\}$. Imaginons deux\n",
    "distributions pour $X$: p(x) et q(x)."
   ]
  },
  {
   "attachments": {},
   "cell_type": "markdown",
   "metadata": {},
   "source": [
    "1. Calculez H(p) et H(q)."
   ]
  },
  {
   "attachments": {},
   "cell_type": "markdown",
   "metadata": {},
   "source": [
    "On a:\n",
    "$$H(p) = -\\sum_{x \\in X}p(x)log_2(p(x)) = p(X = a)log_2(\\frac{1}{p(X = a)}) + p(X = b)log_2(\\frac{1}{p(X = b)}) + p(X = c)log_2(\\frac{1}{p(X = c)})$$\n",
    "On a donc:\n",
    "$$H(p) = \\frac{1}{2}log_2(2) + 2 * \\frac{1}{4}log_2(4) = 1.5$$      \n",
    "\n",
    "On a:\n",
    "$$H(q) = -\\sum_{x \\in X}q(x)log_2(q(x)) = q(X = a)log_2(\\frac{1}{q(X = a)}) + q(X = b)log_2(\\frac{1}{q(X = b)}) + q(X = c)log_2(\\frac{1}{q(X = c)})$$\n",
    "On a donc:\n",
    "$$H(q) = 3 * \\frac{1}{3}log_2(3) = log_2(3) = 1.584962500721156 $$"
   ]
  },
  {
   "cell_type": "code",
   "execution_count": 32,
   "metadata": {},
   "outputs": [
    {
     "name": "stdout",
     "output_type": "stream",
     "text": [
      "H(p) = 1.5\n",
      "H(q) = 1.584962500721156\n",
      "\n",
      "Test de l'algorithme\n",
      "Erreur entre la valeur attendue et la valeur obtenue:\n",
      "1.9539925233402755e-14\n",
      "Test passé\n"
     ]
    }
   ],
   "source": [
    "import numpy as np\n",
    "\n",
    "def entropy(liste):\n",
    "    result = 0\n",
    "    for i in np.arange(len(liste)):\n",
    "        result -= liste[i] * np.log2(liste[i])\n",
    "    return result\n",
    "print(\"H(p) = \" + str(entropy([1/2, 1/4, 1/4])))\n",
    "print(\"H(q) = \" + str(entropy([1/3, 1/3, 1/3])))\n",
    "print(\"\\nTest de l'algorithme\")\n",
    "\n",
    "def test_entropy():\n",
    "    n = np.random.randint(1000)\n",
    "    test = np.zeros(n)\n",
    "    test += 1/n\n",
    "    print(\"Erreur entre la valeur attendue et la valeur obtenue:\")\n",
    "    print(entropy(test) - np.log2(n))\n",
    "    assert np.abs(entropy(test) - np.log2(n)) < 1e-12, \"L'entropie d'une variable aléatoire suivant une loi uniforme doit être égale au logarithme en base 2 du cardinal de cette variable aléatoire\"\n",
    "    print(\"Test passé\")\n",
    "\n",
    "test_entropy()"
   ]
  },
  {
   "attachments": {},
   "cell_type": "markdown",
   "metadata": {},
   "source": [
    "2. Calculez D(p||q) et D(q||p)."
   ]
  },
  {
   "attachments": {},
   "cell_type": "markdown",
   "metadata": {},
   "source": [
    "On a:\n",
    "$$D(p||q) = \\sum_{x \\in X}p(x)log_2(\\frac{p(x)}{q(x)}) = p(X = a)log_2(\\frac{p(X = a)}{q(X = a)}) + p(X = b)log_2(\\frac{p(X = b)}{q(X = b)}) + p(X = c)log_2(\\frac{p(X = c)}{q(X = c)})$$\n",
    "Ce qui nous donne:\n",
    "$$D(p||q) = \\frac{1}{2}log_2(\\frac{3}{2}) + 2\\frac{1}{4}log_2(\\frac{3}{4}) = 0.08496250072115619$$"
   ]
  },
  {
   "attachments": {},
   "cell_type": "markdown",
   "metadata": {},
   "source": [
    "On a:\n",
    "$$D(q||p) = \\sum_{x \\in X}q(x)log_2(\\frac{q(x)}{p(x)}) = q(X = a)log_2(\\frac{q(X = a)}{p(X = a)}) + q(X = b)log_2(\\frac{q(X = b)}{p(X = b)}) + q(X = c)log_2(\\frac{q(X = c)}{p(X = c)})$$\n",
    "Ce qui nous donne:\n",
    "$$D(q||p) = \\frac{1}{3}log_2(\\frac{2}{3}) + 2\\frac{1}{3}log_2(\\frac{4}{3}) = 0.08170416594551039$$"
   ]
  },
  {
   "cell_type": "code",
   "execution_count": 36,
   "metadata": {},
   "outputs": [
    {
     "name": "stdout",
     "output_type": "stream",
     "text": [
      "D(p||q) = 0.08496250072115619\n",
      "D(q||p) = 0.08170416594551039\n"
     ]
    }
   ],
   "source": [
    "def relative_entropy(liste1, liste2):\n",
    "    result = 0\n",
    "    if (len(liste1) != len(liste2)):\n",
    "        print(\"Il faut donner 2 listes de la même longueur !\")\n",
    "    for i in np.arange(len(liste1)):\n",
    "        result += liste1[i] * np.log2(liste1[i]/liste2[i])\n",
    "    return result\n",
    "\n",
    "print(\"D(p||q) = \" + str(relative_entropy([1/2, 1/4, 1/4], [1/3, 1/3, 1/3])))\n",
    "print(\"D(q||p) = \" + str(relative_entropy([1/3, 1/3, 1/3], [1/2, 1/4, 1/4])))\n",
    "\n",
    "assert relative_entropy([1/2, 1/4, 1/4], [1/3, 1/3, 1/3]) == 1/2*np.log2(3/2) + 2 * 1/4 * np.log2(3/4), \"Erreur dans le programme\""
   ]
  },
  {
   "attachments": {},
   "cell_type": "markdown",
   "metadata": {},
   "source": [
    "3. Ces deux valeurs ne sont pas égales. Sous quelle condition D(p||q) = D(q||p) ?"
   ]
  },
  {
   "attachments": {},
   "cell_type": "markdown",
   "metadata": {},
   "source": [
    "On cherche les conditions pour avoir $D(p||q) = D(q||p) \\: \\Leftrightarrow 0 = D(p||q) - D(q||p)$"
   ]
  },
  {
   "attachments": {},
   "cell_type": "markdown",
   "metadata": {},
   "source": [
    "On a:\n",
    "\n",
    "$$D(p||q) - D(q||p) = \\sum_{x \\in X}p(x)log_2(\\frac{p(x)}{q(x)}) - \\sum_{x \\in X}q(x)log_2(\\frac{q(x)}{p(x)})\n",
    "= \\sum_{x \\in X}p(x)log_2(\\frac{p(x)}{q(x)}) - q(x)log_2(\\frac{q(x)}{p(x)})$$\n",
    "et:\n",
    "$$\\sum_{x \\in X}p(x)log_2(\\frac{p(x)}{q(x)}) - q(x)log_2(\\frac{q(x)}{p(x)})\n",
    "= \\sum_{x \\in X}p(x)log_2(p(x)) - p(x)log_2(q(x)) - q(x)log_2(q(x)) + q(x)log_2(p(x))\n",
    "= \\sum_{x \\in X}log_2(p(x))(p(x) + q(x)) - log_2(q(x))(p(x) + q(x))$$\n",
    "Donc:\n",
    "$$D(p||q) - D(q||p) = 0\n",
    "\\Leftrightarrow \\sum_{x \\in X}log_2(p(x))(p(x) + q(x)) - log_2(q(x))(p(x) + q(x)) = 0$$\n",
    "Si $\\forall x \\in X$, on a:\n",
    "$$log_2(p(x))(p(x) + q(x)) - log_2(q(x))(p(x) + q(x)) = 0\n",
    "\\Leftrightarrow log_2(p(x))(p(x) + q(x)) = log_2(q(x))(p(x) + q(x))\n",
    "\\Leftrightarrow log_2(p(x)) = log_2(q(x))$$\n",
    "alors pour avoir $D(p||q) = D(q||p) $, il faut que \n",
    "$$log_2(p(x)) = log_2(q(x)) \\: \\forall x \\in X$$\n"
   ]
  },
  {
   "cell_type": "markdown",
   "metadata": {},
   "source": []
  }
 ],
 "metadata": {
  "kernelspec": {
   "display_name": "Python 3",
   "language": "python",
   "name": "python3"
  },
  "language_info": {
   "codemirror_mode": {
    "name": "ipython",
    "version": 3
   },
   "file_extension": ".py",
   "mimetype": "text/x-python",
   "name": "python",
   "nbconvert_exporter": "python",
   "pygments_lexer": "ipython3",
   "version": "3.9.2"
  },
  "orig_nbformat": 4
 },
 "nbformat": 4,
 "nbformat_minor": 2
}
