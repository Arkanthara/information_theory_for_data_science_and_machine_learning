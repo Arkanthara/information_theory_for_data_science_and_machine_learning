{
 "cells": [
  {
   "attachments": {},
   "cell_type": "markdown",
   "metadata": {},
   "source": [
    "# Problème 1 (Transformation de variables aléatoires)"
   ]
  },
  {
   "attachments": {},
   "cell_type": "markdown",
   "metadata": {},
   "source": [
    "## a) Donnez T(.) pour les 2 cas"
   ]
  },
  {
   "attachments": {},
   "cell_type": "markdown",
   "metadata": {},
   "source": [
    "### 1)"
   ]
  },
  {
   "attachments": {},
   "cell_type": "markdown",
   "metadata": {},
   "source": [
    "On cherche T(.) tel que $$\\int_{a}^{b}f_{z}(z)dz = \\int_{T(a)}^{T(b)}f_{x}(x)dx$$ pour $f_{z} = \\cal{U}(z|-a, a)$ et $f_{x} = \\cal{N}(x | 0, \\sigma^{2})$\n",
    "On veut donc trouver T(.) tel que $$\\int_{-\\infty}^{b}f_{z}(z)dz = \\int_{-\\infty}^{T(b)}f_{x}(x)dx$$"
   ]
  },
  {
   "attachments": {},
   "cell_type": "markdown",
   "metadata": {},
   "source": [
    "On a pour $b \\in [-a, a]$\n",
    "$$ \\int_{-\\infty}^{b}f_{z}(z)dz = \\int_{-\\infty}^{-a}f_{z}(z)dz + \\int_{-a}^{b}f_{z}(z)dz = 0 + \\int_{-a}^{b}f_{z}(z)dz = \\int_{-a}^{b}f_{z}(z)dz = [\\frac{z}{2a}]_{-a}^{b}\n",
    " = \\frac{b}{2a} - \\frac{-a}{2a} = \\frac{1}{2}(\\frac{b}{a} + 1)$$"
   ]
  },
  {
   "attachments": {},
   "cell_type": "markdown",
   "metadata": {},
   "source": [
    "On cherche $\\int_{-\\infty}^{T(b)}f_{x}(x)dx$ :\n",
    "$$\\int_{-\\infty}^{T(b)}f_{x}(x)dx = \\int_{-\\infty}^{-a}f_{x}(x)dx + \\int_{-a}^{0}f_{x}(x)dx + \\int_{0}^{T(b)}f_{x}(x)dx$$\n",
    "Or on a que:\n",
    "$$ \\int_{-\\infty}^{-a}f_{x}(x)dx = 0$$\n",
    "$$ \\int_{-a}^{0}f_{x}(x)dx = \\frac{1}{2}$$\n",
    "Car $$\\int_{-\\infty}^{b}f_{z}(z)dz = \\int_{-\\infty}^{T(b)}f_{x}(x)dx$$ et $$f_{z} = \\cal{U}(z|-a, a)$$\n",
    "Donc on a:\n",
    "$$f_{x}(x) = \\frac{1}{\\sigma \\sqrt{2\\pi}} \\text{e}^{-\\frac{x^{2}}{2\\sigma^{2}}}$$\n",
    "$$\\int_{-\\infty}^{T(b)}f_{x}(x)dx = \\int_{0}^{T(b)}f_{x}(x)dx + \\frac{1}{2}$$\n",
    "Effectuons un changement de variable:\n",
    "$ \\frac{x^{2}}{2\\sigma^{2}} \\rightarrow y.$\n",
    "On a:\n",
    "$$\\frac{dx}{\\sqrt{2}\\sigma} = dy \\Leftrightarrow dx = \\sqrt{2}\\sigma dy$$\n",
    "Donc:\n",
    "$$\\frac{1}{\\sigma \\sqrt{2\\pi}} \\int_{0}^{T(b)} \\text{e}^{-\\frac{x^{2}}{2\\sigma^{2}}}dx + \\frac{1}{2} = \\frac{1}{\\sigma \\sqrt{2\\pi}} \\int_{0}^{T(b)}\\text{e}^{-y^{2}} \\sqrt{2}\\sigma dy+ \\frac{1}{2} = \\frac{1}{\\pi} \\int_{0}^{T(b)}\\text{e}^{-y^{2}}dy + \\frac{1}{2} = \\frac{1}{2} (\\text{erf(T(b))} + 1)$$"
   ]
  },
  {
   "attachments": {},
   "cell_type": "markdown",
   "metadata": {},
   "source": [
    "Soit on a donc:\n",
    "$$\\frac{1}{2} (\\text{erf(T(b))} + 1) = \\frac{1}{2}(\\frac{b}{a} + 1) \\Leftrightarrow \\text{erf(T(b))} + 1 = \\frac{b}{a} + 1 \\Leftrightarrow \\text{erf(T(b))} = \\frac{b}{a} \\Leftrightarrow\n",
    "\\text{T(b)} = \\text{erf}^{-1}(\\frac{b}{a})$$"
   ]
  },
  {
   "attachments": {},
   "cell_type": "markdown",
   "metadata": {},
   "source": [
    "### 2)"
   ]
  },
  {
   "attachments": {},
   "cell_type": "markdown",
   "metadata": {},
   "source": [
    "On cherche T(.) tel que $$\\int_{a}^{b}f_{z}(z)dz = \\int_{T(a)}^{T(b)}f_{x}(x)dx$$ pour $f_{z} = \\cal{U}(z|-a, a)$ et $f_{x} = \\cal{L}(x | 0, b)$\n",
    "On veut donc trouver T(.) tel que $$\\int_{-\\infty}^{b}f_{z}(z)dz = \\int_{-\\infty}^{T(b)}f_{x}(x)dx$$"
   ]
  },
  {
   "attachments": {},
   "cell_type": "markdown",
   "metadata": {},
   "source": [
    "On a pour $b \\in (-a, a)$\n",
    "$$ \\int_{-\\infty}^{b}f_{z}(z)dz = \\frac{1}{2}(\\frac{b}{a} + 1)$$"
   ]
  },
  {
   "attachments": {},
   "cell_type": "markdown",
   "metadata": {},
   "source": [
    "On cherche $\\int_{-\\infty}^{T(b)}f_{x}(x)dx$ :\n",
    "$$\\int_{-\\infty}^{T(b)}f_{x}(x)dx = \\int_{-\\infty}^{-a}f_{x}(x)dx + \\int_{-a}^{0}f_{x}(x)dx + \\int_{0}^{T(b)}f_{x}(x)dx$$\n",
    "Or on a que:\n",
    "$$ \\int_{-\\infty}^{-a}f_{x}(x)dx = 0$$\n",
    "$$ \\int_{-a}^{0}f_{x}(x)dx = \\frac{1}{2}$$\n",
    "Car $$\\int_{-\\infty}^{b}f_{z}(z)dz = \\int_{-\\infty}^{T(b)}f_{x}(x)dx$$ et $$f_{z} = \\cal{U}(z|-a, a)$$"
   ]
  },
  {
   "attachments": {},
   "cell_type": "markdown",
   "metadata": {},
   "source": [
    "Donc on a:\n",
    "$$f_{x}(x) = \\frac{1}{2b}\\text{e}^{-\\frac{|x|}{b}}$$\n",
    "$$\\int_{-\\infty}^{T(b)}f_{x}(x)dx = \\int_{0}^{T(b)}f_{x}(x)dx + \\frac{1}{2} = \\int_{0}^{T(b)}f_{x}(x)dx + \\frac{1}{2} = [-\\frac{1}{2}\\text{e}^{-\\frac{|x|}{b}}]_{0}^{T(b)} + \\frac{1}{2} = -\\frac{1}{2}\\text{e}^{-\\frac{|T(b)|}{b}} + \\frac{1}{2}\\text{e}^{0} + \\frac{1}{2} = -\\frac{1}{2}\\text{e}^{-\\frac{|T(b)|}{b}} + 1 $$\n",
    "Donc :\n",
    "$$ \\frac{1}{2}(-\\text{e}^{-\\frac{|T(b)|}{b}} + 2) = \\frac{1}{2}(\\frac{b}{a} + 1) \\Leftrightarrow -\\text{e}^{-\\frac{|T(b)|}{b}} + 2 = \\frac{b}{a} + 1 \\Leftrightarrow\n",
    "-\\text{e}^{-\\frac{|T(b)|}{b}} = \\frac{b}{a} -1 \\Leftrightarrow -\\frac{|T(b)|}{b} = \\text{ln}(1-\\frac{b}{a}) \\Leftrightarrow \\text{|T(b)|} = -\\frac{\\text{ln}(1-\\frac{b}{a})}{b}$$\n",
    "Et on a bien que $1-\\frac{b}{a} \\gt 0 $ car $b \\in (-a, a)$ donc $b \\lt a$."
   ]
  },
  {
   "cell_type": "markdown",
   "metadata": {},
   "source": []
  }
 ],
 "metadata": {
  "kernelspec": {
   "display_name": "Python 3",
   "language": "python",
   "name": "python3"
  },
  "language_info": {
   "codemirror_mode": {
    "name": "ipython",
    "version": 3
   },
   "file_extension": ".py",
   "mimetype": "text/x-python",
   "name": "python",
   "nbconvert_exporter": "python",
   "pygments_lexer": "ipython3",
   "version": "3.9.2"
  },
  "orig_nbformat": 4
 },
 "nbformat": 4,
 "nbformat_minor": 2
}
