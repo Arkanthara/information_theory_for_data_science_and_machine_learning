{
 "cells": [
  {
   "attachments": {},
   "cell_type": "markdown",
   "metadata": {},
   "source": [
    "# Problème 1 (Processus de Markov et EVD)"
   ]
  },
  {
   "attachments": {},
   "cell_type": "markdown",
   "metadata": {},
   "source": [
    "Faites la décomposition en valeurs propres de $K_{XX}$ telle que donnée ci-dessous afin d’obtenir\n",
    "les matrices U et D pour $\\sigma_{X}^{2} = 1$, $N = 4$, $\\rho = 0.1, 0.5, 0.95$"
   ]
  },
  {
   "cell_type": "markdown",
   "metadata": {},
   "source": []
  },
  {
   "cell_type": "code",
   "execution_count": 2,
   "metadata": {},
   "outputs": [],
   "source": [
    "import numpy as np\n",
    "\n",
    "\n",
    "def EVD(sigma, p):\n",
    "    K_x = sigma * np.array([[1, p, p**2, p**3], [p, 1, p, p**2], [p**2, p, 1, p], [p**3, p**2, p, 1]])\n",
    "    Lambda, U = np.linalg.eig(K_x)\n",
    "    U_inv = np.linalg.inv(U)\n",
    "    D = np.diag(Lambda)\n",
    "    return K_x, U, D, U_inv"
   ]
  },
  {
   "cell_type": "code",
   "execution_count": 3,
   "metadata": {},
   "outputs": [],
   "source": [
    "# Test de notre décomposition en valeurs propres...\n",
    "K_x, U, D, U_inv = EVD(1, 0.1)\n",
    "K = U@D@U_inv\n",
    "assert np.allclose(K, K_x), \"Erreur dans la décomposition en valeurs propres !\""
   ]
  },
  {
   "cell_type": "code",
   "execution_count": 4,
   "metadata": {},
   "outputs": [
    {
     "name": "stdout",
     "output_type": "stream",
     "text": [
      "ρ =  0.1\n",
      "Valeurs propres =  [1.17112442 1.05221441 0.84678559 0.92987558]\n",
      "Moyenne =  1.0000000000000002\n",
      "Variance =  0.015100499999999992\n",
      "ρ =  0.5\n",
      "Valeurs propres =  [2.0855823 1.        0.5394177 0.375    ]\n",
      "Moyenne =  1.0000000000000004\n",
      "Variance =  0.4453125000000002\n",
      "ρ =  0.95\n",
      "Valeurs propres =  [3.75676632 0.16265327 0.05060868 0.02997173]\n",
      "Moyenne =  0.9999999999999999\n",
      "Variance =  2.5358021953124985\n"
     ]
    }
   ],
   "source": [
    "# On va prendre la matrice des valeurs propres pour ρ = 0.1, 0.5, 0.95, et on va observer les différences...\n",
    "rho = {0.1, 0.5, 0.95}\n",
    "list_matrices_Valeur_Propres = []\n",
    "for p in rho:\n",
    "    K_x, U, D, U_inv = EVD(1, p)\n",
    "    print(\"ρ = \" , p)\n",
    "    print(\"Valeurs propres = \", np.diagonal(D))\n",
    "    print(\"Moyenne = \", np.average(np.diagonal(D)))\n",
    "    print(\"Variance = \", np.var(np.diagonal(D)))"
   ]
  },
  {
   "attachments": {},
   "cell_type": "markdown",
   "metadata": {},
   "source": [
    "On peut constater que lorsque ρ augmente, on a la variance de nos valeurs propres qui augmente également. De plus, on a des valeurs propres qui sont de plus en plus grande, mais qui décroissent de plus en plus rapidement..."
   ]
  },
  {
   "attachments": {},
   "cell_type": "markdown",
   "metadata": {},
   "source": [
    "# Problème 2 (Expliquer quelques concepts)"
   ]
  },
  {
   "attachments": {},
   "cell_type": "markdown",
   "metadata": {},
   "source": [
    "### Expliquer le lien entre la décomposition en valeurs propres (EVD) et en valeurs singulières (SVD)."
   ]
  },
  {
   "attachments": {},
   "cell_type": "markdown",
   "metadata": {},
   "source": [
    "On a que pour tout $X \\in \\mathbb{R}^{n*m}$, $X$ peut s'écrire comme (SVD):\n",
    "$$X = U S V^{T}$$\n",
    "On a que pour tout $A \\in \\mathbb{R}^{n*n}$, $A$ peut s'écrire comme (EVD):\n",
    "$$A = Y \\Sigma Y^{T}$$\n",
    "On a que $U$ est une matrice construite avec les vecteurs propres de $XX^{T}$, S est une matrice construite avec la racine carrée des valeurs propres de $XX^{T}$ ou de $X^{T}X$, et $V$ est construite avec les vecteurs propres de $X^{T}X$. La décomposition en valeurs propres est sur le même principe, sauf que comme on a des matrices carrées, on n'est pas obligé de faire $MM^{T}$ ou $M^{T}M$... La décomposition en valeurs propres est composé d'une matrice $Y$ construite avec les vecteurs propres de $A$, une matrice $\\Sigma$ qui est une matrice diagonale avec les valeurs propres de $A$, et une matrice $Y^{T}$ qui est la transposée de la matrice $U$. On peut donc voir que le principe est clairement le même. La différence est dûe au fait qu'on ne peut pas faire toutes les opérations que l'on veut sur des matrices qui ne sont pas carrées..."
   ]
  },
  {
   "attachments": {},
   "cell_type": "markdown",
   "metadata": {},
   "source": [
    "### Expliquer pour quelles matrices on peut appliquer chacune de ces décompositions."
   ]
  },
  {
   "attachments": {},
   "cell_type": "markdown",
   "metadata": {},
   "source": [
    "On peut appliquer la décomposition en valeurs propres sur les matrices carrées, et la décomposition en valeurs singulières sur les matrices qui ne sont pas carrées."
   ]
  },
  {
   "attachments": {},
   "cell_type": "markdown",
   "metadata": {},
   "source": [
    "###  Peut-on appliquer la décomposition en valeurs singulières (SVD) à des matrices de covariance ? Qu’obtiendra-t-on ?"
   ]
  },
  {
   "attachments": {},
   "cell_type": "markdown",
   "metadata": {},
   "source": [
    "regarder slides à partir de la page 81 !!!"
   ]
  },
  {
   "attachments": {},
   "cell_type": "markdown",
   "metadata": {},
   "source": [
    "On peut appliquer la décomposition en valeurs propres à des matrices de cross-covariance $K_{XY} \\in \\mathbb{R}^{n*m}$, et non pas à des matrices de covariance car celles-ci sont carrées: $K_{XX} \\in \\mathbb{R}^{n*n}$\n",
    "\n",
    "En appliquant la décomposition en valeurs propres à des matrices de cross-covariance, on a comme $K_{XY}^{T} = K_{YX}$ que:\n",
    "$$(K_{XY})^{T} = (USV^{T})^{T} = VS^{T}U^{T} = K_{YX}$$"
   ]
  },
  {
   "cell_type": "markdown",
   "metadata": {},
   "source": []
  }
 ],
 "metadata": {
  "kernelspec": {
   "display_name": "Python 3",
   "language": "python",
   "name": "python3"
  },
  "language_info": {
   "codemirror_mode": {
    "name": "ipython",
    "version": 3
   },
   "file_extension": ".py",
   "mimetype": "text/x-python",
   "name": "python",
   "nbconvert_exporter": "python",
   "pygments_lexer": "ipython3",
   "version": "3.9.2"
  },
  "orig_nbformat": 4
 },
 "nbformat": 4,
 "nbformat_minor": 2
}
