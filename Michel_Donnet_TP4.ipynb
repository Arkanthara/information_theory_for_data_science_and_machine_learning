{
 "cells": [
  {
   "attachments": {},
   "cell_type": "markdown",
   "metadata": {},
   "source": [
    "# Problème 1 (Processus de Markov et EVD)"
   ]
  },
  {
   "attachments": {},
   "cell_type": "markdown",
   "metadata": {},
   "source": [
    "Faites la décomposition en valeurs propres de $K_{XX}$ telle que donnée ci-dessous afin d’obtenir\n",
    "les matrices U et D pour $\\sigma_{X}^{2} = 1$, $N = 4$, $\\rho = 0.1, 0.5, 0.95$"
   ]
  },
  {
   "cell_type": "markdown",
   "metadata": {},
   "source": []
  },
  {
   "cell_type": "code",
   "execution_count": 2,
   "metadata": {},
   "outputs": [],
   "source": [
    "import numpy as np\n",
    "\n",
    "\n",
    "def EVD(sigma, p):\n",
    "    K_x = sigma * np.array([[1, p, p**2, p**3], [p, 1, p, p**2], [p**2, p, 1, p], [p**3, p**2, p, 1]])\n",
    "    Lambda, U = np.linalg.eig(K_x)\n",
    "    U_inv = np.linalg.inv(U)\n",
    "    D = np.diag(Lambda)\n",
    "    return K_x, U, D, U_inv"
   ]
  },
  {
   "cell_type": "code",
   "execution_count": 3,
   "metadata": {},
   "outputs": [],
   "source": [
    "# Test de notre décomposition en valeurs propres...\n",
    "K_x, U, D, U_inv = EVD(1, 0.1)\n",
    "K = U@D@U_inv\n",
    "assert np.allclose(K, K_x), \"Erreur dans la décomposition en valeurs propres !\""
   ]
  },
  {
   "cell_type": "code",
   "execution_count": 4,
   "metadata": {},
   "outputs": [
    {
     "name": "stdout",
     "output_type": "stream",
     "text": [
      "ρ =  0.1\n",
      "Valeurs propres =  [1.17112442 1.05221441 0.84678559 0.92987558]\n",
      "Moyenne =  1.0000000000000002\n",
      "Variance =  0.015100499999999992\n",
      "ρ =  0.5\n",
      "Valeurs propres =  [2.0855823 1.        0.5394177 0.375    ]\n",
      "Moyenne =  1.0000000000000004\n",
      "Variance =  0.4453125000000002\n",
      "ρ =  0.95\n",
      "Valeurs propres =  [3.75676632 0.16265327 0.05060868 0.02997173]\n",
      "Moyenne =  0.9999999999999999\n",
      "Variance =  2.5358021953124985\n"
     ]
    }
   ],
   "source": [
    "# On va prendre la matrice des valeurs propres pour ρ = 0.1, 0.5, 0.95, et on va observer les différences...\n",
    "rho = {0.1, 0.5, 0.95}\n",
    "list_matrices_Valeur_Propres = []\n",
    "for p in rho:\n",
    "    K_x, U, D, U_inv = EVD(1, p)\n",
    "    print(\"ρ = \" , p)\n",
    "    print(\"Valeurs propres = \", np.diagonal(D))\n",
    "    print(\"Moyenne = \", np.average(np.diagonal(D)))\n",
    "    print(\"Variance = \", np.var(np.diagonal(D)))"
   ]
  },
  {
   "attachments": {},
   "cell_type": "markdown",
   "metadata": {},
   "source": [
    "On peut constater que lorsque ρ augmente, on a la variance de nos valeurs propres qui augmente également. De plus, on a des valeurs propres qui sont de plus en plus grande, mais qui décroissent de plus en plus rapidement..."
   ]
  },
  {
   "attachments": {},
   "cell_type": "markdown",
   "metadata": {},
   "source": [
    "# Problème 2 (Expliquer quelques concepts)"
   ]
  },
  {
   "attachments": {},
   "cell_type": "markdown",
   "metadata": {},
   "source": [
    "### Expliquer le lien entre la décomposition en valeurs propres (EVD) et en valeurs singulières (SVD)."
   ]
  },
  {
   "attachments": {},
   "cell_type": "markdown",
   "metadata": {},
   "source": [
    "On a que pour tout $X \\in \\mathbb{R}^{n*m}$, $X$ peut s'écrire comme (SVD):\n",
    "$$X = U S V^{T}$$\n",
    "On a que pour tout $A \\in \\mathbb{R}^{n*n}$, $A$ peut s'écrire comme (EVD):\n",
    "$$A = Y \\Sigma Y^{T}$$\n",
    "On a que $U$ est une matrice construite avec les vecteurs propres de $XX^{T}$, et comme $XX^{T}$ est une matrice carrée, on utilise EVD et on a: $XX^{T} = U \\Sigma U^{T}$, S est une matrice construite avec la racine carrée des valeurs propres de $XX^{T}$ ou de $X^{T}X$, et $V^{T}$ est construite avec les vecteurs propres de $X^{T}X$, obtenus à nouveau grâce à la décomposition en valeurs propres: $X^{T}X = V \\Sigma^{'} V^{T}$. Le lien entre la décomposition en valeurs propres et en valeurs singulières est donc assez direct."
   ]
  },
  {
   "attachments": {},
   "cell_type": "markdown",
   "metadata": {},
   "source": [
    "### Expliquer pour quelles matrices on peut appliquer chacune de ces décompositions."
   ]
  },
  {
   "attachments": {},
   "cell_type": "markdown",
   "metadata": {},
   "source": [
    "On peut appliquer la décomposition en valeurs propres sur les matrices carrées, et la décomposition en valeurs singulières sur les matrices qui ne sont pas carrées, mais aussi sur des matrices carrées. La décomposition en valeurs singulières est donc un peu une généralisation de la décomposition en valeurs propres."
   ]
  },
  {
   "attachments": {},
   "cell_type": "markdown",
   "metadata": {},
   "source": [
    "###  Peut-on appliquer la décomposition en valeurs singulières (SVD) à des matrices de covariance ? Qu’obtiendra-t-on ?"
   ]
  },
  {
   "attachments": {},
   "cell_type": "markdown",
   "metadata": {},
   "source": [
    "regarder slides à partir de la page 81 !!!"
   ]
  },
  {
   "attachments": {},
   "cell_type": "markdown",
   "metadata": {},
   "source": [
    "On peut appliquer la décomposition en valeurs propres à des matrices de covariance $K_{XX}$. On aura donc, sachant que $K_{XX} = K_{XX}^{T}$:\n",
    "\n",
    "$K_{XX} = USV^{T}$ avec\n",
    "* $K_{XX}K_{XX}^{T} = K_{XX}^{2} = U\\Sigma^{2}U^{T}$ selon EVD car $K_{XX}$ est une matrice carrée.\n",
    "* $S = \\sqrt{\\Sigma^{2}} = \\Sigma$\n",
    "* $K_{XX}^{T}K_{XX} = K_{XX}^{2} = U\\Sigma^{2}U^{T}$ donc $V^{T} = U^{T}$\n",
    "\n",
    "On a donc la décomposition en valeurs singulières qui est égale à la décomposition en valeurs propres pour la matrice de covariance."
   ]
  },
  {
   "attachments": {},
   "cell_type": "markdown",
   "metadata": {},
   "source": [
    "# Problème 3 (Transformation affine)"
   ]
  },
  {
   "attachments": {},
   "cell_type": "markdown",
   "metadata": {},
   "source": [
    "1. Quel est l’impact d’une transformation linéaire (affine) x = Az sur\n",
    "- la moyenne $\\bar{x}$ ?\n",
    "On a:\n",
    "\n",
    "$$\\mathbb{E}[x_{1}] = \\mathbb{E}[z_{1}*a_{1,1} + \\dots + z_{n}*a_{1, n}] = \\sum_{1}^{n}\\mathbb{E}[z_{i}*a_{1, i}] = \\sum_{1}^{n}\\mathbb{E}[z_{i}]*a_{1, i} = \\sum_{1}^{n}\\bar{z_{i}}*a_{1, i}\\\\\n",
    "\\mathbb{E}[x_{2}] = \\sum_{1}^{n}\\bar{z_{i}}*a_{2, i}\\\\\n",
    "\\vdots \\\\\n",
    "\\mathbb{E}[x_{n}] = \\sum_{1}^{n}\\bar{z_{i}}*a_{n, i}\\\\$$\n",
    "\n",
    "Donc on a que:\n",
    "$$\\bar{x} = A\\bar{z}$$\n",
    "Le vecteur moyenne est donc simplement multipliée par la matrice de la transformation linéaire, et on trouve ainsi le vecteur moyenne transformé.\n",
    "- la matrice de covariance $K_{XX}$ ?\n",
    "On a:\n",
    "$$ K_{XX} = \\begin{pmatrix}\n",
    "\\mathbb{E}[(X_{1} - \\mathbb{E}[X_{1}])(X_{1} - \\mathbb{E}[X_{1}])] & \\cdots & \\mathbb{E}[(X_{1} - \\mathbb{E}[X_{1}])(X_{N} - \\mathbb{E}[X_{N}])] \\\\\n",
    "\\vdots & \\ddots & \\vdots \\\\\n",
    "\\mathbb{E}[(X_{N} - \\mathbb{E}[X_{N}])(X_{1} - \\mathbb{E}[X_{1}])] & \\cdots & \\mathbb{E}[(X_{N} - \\mathbb{E}[X_{N}])(X_{N} - \\mathbb{E}[X_{N}])]\n",
    "\\end{pmatrix}\n",
    "= \\begin{pmatrix}\n",
    "Var(X_ {1}) & \\cdots & Cov(X_{1}, X_{N}) \\\\\n",
    "\\vdots & \\ddots & \\vdots \\\\\n",
    "Cov(X_{N}, X_{1}) & \\cdots & Var(X_{N})\n",
    "\\end{pmatrix}\n",
    "= \\begin{pmatrix}\n",
    "Var(X_ {1}) & \\cdots & Cov(X_{1}, X_{N}) \\\\\n",
    "\\vdots & \\ddots & \\vdots \\\\\n",
    "Cov(X_{N}, X_{1}) & \\cdots & Var(X_{N})\n",
    "\\end{pmatrix}\n",
    "$$\n",
    "et:\n",
    "$$Var(X_{1}) = Var(\\sum_{1}^{n}Z_{i}a_{1, i}) = \\sum_{1}^{n}a_{1, i}^{2}Var(Z_{i})\\\\\n",
    "\\vdots \\\\\n",
    "Var(X_{n}) = \\sum_{1}^{n}a_{n, i}^{2}Var(Z_{i})$$\n",
    "et:\n",
    "$$Cov(X_{1}, X_{2}) = \\mathbb{E}[(X_{1} - \\mathbb{E}[X_{1}])(X_{2} - \\mathbb{E}[X_{2}])] = \\mathbb{E}[(\\sum_{1}^{n}Z_{i}a_{1, i} - \\sum_{1}^{n}\\bar{z_{i}}*a_{1, i})]"
   ]
  },
  {
   "attachments": {},
   "cell_type": "markdown",
   "metadata": {},
   "source": [
    "2. Trouver l’expression exacte de p(x) directement grâce à la formule de la figure ci-dessus, c’est-à-dire sans utiliser le point 1."
   ]
  },
  {
   "attachments": {},
   "cell_type": "markdown",
   "metadata": {},
   "source": [
    "$$p_{x} = \\frac{p_{z}(A^{-1}x)}{|det(A)|} = \\frac{1}{|det(A)|}\\frac{1}{\\sqrt{(2\\pi)^{N}|det(K_{zz})|}}\\text{e}^{-\\frac{1}{2}(A^{-1}x -\\bar{z})^{T}K_{zz}^{-1}(A^{-1}x -\\bar{z})}$$"
   ]
  },
  {
   "attachments": {},
   "cell_type": "markdown",
   "metadata": {},
   "source": [
    "3. Vous devriez trouver une nouvelle gaussienne dont la moyenne et la matrice de covariance ont changés. Ecrivez-la de sorte à identifier $\\bar{x}$ et $K_{XX}$ tels que trouvés au point 1."
   ]
  },
  {
   "attachments": {},
   "cell_type": "markdown",
   "metadata": {},
   "source": [
    "On a:\n",
    "$$(A^{-1}x - \\bar{z}) = A^{-1}(x - A\\bar{z})\\\\\n",
    "(A^{-1}x - \\bar{z})^{T} = (A^{-1}(x - A\\bar{z}))^{T} = (x - A\\bar{z})^{T}(A^{-1})^{T}\n",
    "$$"
   ]
  },
  {
   "attachments": {},
   "cell_type": "markdown",
   "metadata": {},
   "source": [
    "Donc:\n",
    "$$(A^{-1}x -\\bar{z})^{T}K_{zz}^{-1}(A^{-1}x -\\bar{z})=\n",
    "(x - A\\bar{z})^{T}(A^{-1})^{T}K_{zz}^{-1}A^{-1}(x - A\\bar{z})\n",
    "= (x - A\\bar{z})^{T}(A^{T}K_{zz}A)^{-1}(x - A\\bar{z})$$\n",
    "et:\n",
    "$$A^{-1T}K_{zz}^{-1}A^{-1} = (A^{T}K_{zz}A)^{-1} = K_{xx}^{-1}$$\n",
    "Comme $\\bar{x} = A\\bar{z}$, on a:\n",
    "$$(A^{-1}x -\\bar{z})^{T}K_{zz}^{-1}(A^{-1}x -\\bar{z})\n",
    "= (x - \\bar{x})^{T}K_{xx}^{-1}(x - \\bar{x})$$\n",
    "et:\n",
    "$$|det(K_{xx})| = |det(A^{T})||det(K_{zz})||det(A)| = |det(A)|^{2}|det(K_{zz})|\n",
    "$$\n",
    "Donc:\n",
    "$$p_{x} = \\frac{1}{|det(A)|}\\frac{1}{\\sqrt{(2\\pi)^{N}|det(K_{zz})|}}\\text{e}^{-\\frac{1}{2}(A^{-1}x -\\bar{z})^{T}K_{zz}^{-1}(A^{-1}x -\\bar{z})}\n",
    "= \\frac{1}{\\sqrt{(2\\pi)^{N}|det(A)|^{2}|det(K_{zz})|}}\\text{e}^{-\\frac{1}{2}(x - \\bar{x})^{T}K_{xx}^{-1}(x - \\bar{x})}\n",
    "= \\frac{1}{\\sqrt{(2\\pi)^{N}|det(K_{xx})|}}\\text{e}^{-\\frac{1}{2}(x - \\bar{x})^{T}K_{xx}^{-1}(x - \\bar{x})}"
   ]
  },
  {
   "cell_type": "markdown",
   "metadata": {},
   "source": []
  },
  {
   "cell_type": "markdown",
   "metadata": {},
   "source": []
  }
 ],
 "metadata": {
  "kernelspec": {
   "display_name": "Python 3",
   "language": "python",
   "name": "python3"
  },
  "language_info": {
   "codemirror_mode": {
    "name": "ipython",
    "version": 3
   },
   "file_extension": ".py",
   "mimetype": "text/x-python",
   "name": "python",
   "nbconvert_exporter": "python",
   "pygments_lexer": "ipython3",
   "version": "3.9.2"
  },
  "orig_nbformat": 4
 },
 "nbformat": 4,
 "nbformat_minor": 2
}
