{
 "cells": [
  {
   "attachments": {},
   "cell_type": "markdown",
   "metadata": {},
   "source": [
    "# Problème 1 (Un exemple de l’Inégalité de Bienaymé-Tchebychev pour la Distribution Binomiale)"
   ]
  },
  {
   "attachments": {},
   "cell_type": "markdown",
   "metadata": {},
   "source": [
    "### On lance une pièce de monnaie N fois. Quelle est la probabilité d’obtenir “au moins” $\\frac{3}{4}N$ faces ?"
   ]
  },
  {
   "attachments": {},
   "cell_type": "markdown",
   "metadata": {},
   "source": [
    "Soit $X_{i}$ la variable aléatoire simulant un lancé de la pièce. Soit $\"X_{i} = 0\"$ l'évènement \"On a obtenu pile\" et $\"X_{i} = 1\"$ l'évènement \"On a obtenu face\".\n",
    "\n",
    "On a donc $Pr(X_{i} = 0) = 1 - Pr(X_{i} = 1)$.\n",
    "\n",
    "On peut donc dire que $X_{i} \\: \\sim \\: \\cal{B}(p)$ avec $p = Pr(X_{i} = 1)$.\n",
    "\n",
    "On a donc:\n",
    "\n",
    "$$\\mathbb{E}[X_{i}] = Pr(X_{i} = 0) * 0 + Pr(X_{i} = 1) * 1 = (1 - p) *0 + p*1 = p$$\n",
    "$$Var(X_{i}) = \\mathbb{E}[(X_{i} - \\mathbb{E}[X_{i}])^{2}] = \\mathbb{E}[(X_{i} - p)^{2}] = \\mathbb{E}[X_{i}^{2} - 2pX_{i} + p^{2}] = \\mathbb{E}[X_{i}^{2}] - 2p^{2} + p^{2}\n",
    "= 0^{2} * Pr(X_{i} = 0) + 1^{2} * Pr(X_{i} = 1) - p^{2}= p - p^{2} = p(1 - p) $$"
   ]
  },
  {
   "attachments": {},
   "cell_type": "markdown",
   "metadata": {},
   "source": [
    "On définit : $S_{N} = X_{1} + ... + X_{N} = \\sum_{i = 1}^{N} X_{i}$ la variable aléatoire simulant le nombre de faces obtenus pour N lancés. On a bien que $\\forall X_{i},\\: X_{i} \\sim \\cal{B}(p)$.\n",
    "Donc $\\mathbb{E}[X_{1}] = ... = \\mathbb{E}[X_{N}] = p$\n",
    "\n",
    "Comme chaque lancé est indépendant des autres lancés, on a que $X_{i}$ est indépendant de $X_{j}$ $\\forall \\: i \\ne j$"
   ]
  },
  {
   "attachments": {},
   "cell_type": "markdown",
   "metadata": {},
   "source": [
    "On a donc:\n",
    "$$\\mathbb{E}[S_{N}] = \\mathbb{E}[\\sum_{i=1}^{N} X_{i}] = \\sum_{i=1}^{N}\\mathbb{E}[X_{i}] = \\sum_{i = 1}^{N}p = Np$$\n",
    "Et :\n",
    "$$Var(S_{N}) = Var(\\sum_{i=1}^{N} X_{i}) = \\sum_{i=1}^{N} Var(X_{i}) = Np(1-p)$$\n",
    "Car les $X_{i}$ sont indépendants, donc $Var(X_{i} + X_{j}) = Var(X_{i}) + Var(X_{j})$ $\\forall \\: i \\ne j$."
   ]
  },
  {
   "attachments": {},
   "cell_type": "markdown",
   "metadata": {},
   "source": [
    "* Inégalité de Markov\n",
    "\n",
    "On cherche la probabilité d'obtenir une borne supérieure pour la probabilité \"au moins\" $\\frac{3}{4}N$ faces pour $N$ lancés. On cherche donc: $Pr(S_{N} \\geq \\frac{3}{4}N)$.\n",
    "\n",
    "Selon l'inégalité de Markov, on a: $Pr(Y \\geq t) \\leq \\frac{\\mathbb{E}[Y]}{t}$.\n",
    "\n",
    "On a donc:\n",
    "$$Pr(S_{N} \\geq \\frac{3}{4}N) \\leq \\frac{\\mathbb{E}[S_{N}]}{\\frac{3}{4}N}\n",
    "\\: \\Leftrightarrow \\: Pr(S_{N} \\geq \\frac{3}{4}N) \\leq \\frac{Np}{\\frac{3}{4}N}\n",
    "\\: \\Leftrightarrow \\: Pr(S_{N} \\geq \\frac{3}{4}N) \\leq \\frac{4p}{3}$$"
   ]
  },
  {
   "attachments": {},
   "cell_type": "markdown",
   "metadata": {},
   "source": [
    "* Inégalité de Bienaymé-Tchebychev\n",
    "On cherche une borne qui permet de borner la probabilité d'obtenir \"au moins\" $\\frac{3}{4}N$ faces pour $N$ lancés en fonction de $N$.\n",
    "\n",
    "On a donc:\n",
    "$$Pr(S_{N} \\geq \\frac{3}{4}N) =  Pr(S_{N} - Np \\geq N(\\frac{3}{4}-p)) = Pr(|S_{N} - \\mathbb{E}[S_{N}]| \\geq N(\\frac{3}{4}-p)) \n",
    "\\leq \\frac{Var(S_{N})}{(N(\\frac{3}{4}-p))^{2}} \n",
    "= \\frac{Np(1-p)}{N^{2}(\\frac{3}{4}-p)^{2}}\n",
    "= \\frac{p(1-p)}{N(\\frac{3}{4}-p)^{2}}\n",
    "= \\frac{k}{N}$$\n",
    "Donc $$k = \\frac{p(1-p)}{(\\frac{3}{4}-p)^{2}}\n",
    "= \\frac{p - p^{2}}{\\frac{9}{16} - \\frac{3}{2}p + p^{2}}$$\n",
    "Si notre pièce est équilibrée, on a:\n",
    "$$k = \\frac{\\frac{1}{4}}{(\\frac{1}{4})^{2}}\n",
    "= 4$$\n",
    "Donc pour une pièce équilibrée, on a:\n",
    "$$Pr(S_{N} \\geq \\frac{3}{4}N) \\leq \\frac{4}{N}$$"
   ]
  },
  {
   "attachments": {},
   "cell_type": "markdown",
   "metadata": {},
   "source": [
    "# Problème 2"
   ]
  },
  {
   "attachments": {},
   "cell_type": "markdown",
   "metadata": {},
   "source": [
    "Soit $Z\\: \\sim \\: \\cal{N}(0, 1)$. Prouvez que pour tout $t \\gt 0$, nous avons:\n",
    "$$(\\frac{1}{t} - \\frac{1}{t^{3}}) \\frac{1}{\\sqrt{2\\pi}}\\text{e}^{-\\frac{t^{2}}{2}} \\leq Pr(Z \\geq t) \\leq \\frac{1}{t}\\frac{1}{\\sqrt{2\\pi}}\\text{e}^{-\\frac{t^{2}}{2}}$$"
   ]
  },
  {
   "attachments": {},
   "cell_type": "markdown",
   "metadata": {},
   "source": [
    "On a:\n",
    "$$Pr(Z \\geq t) = \\int_{t}^{\\infty}\\frac{1}{\\sqrt{2\\pi}}\\text{e}^{-\\frac{x^{2}}{2}}dx\n",
    "= \\frac{1}{\\sqrt{2\\pi}}\\int_{t}^{\\infty}\\text{e}^{-\\frac{x^{2}}{2}}dx\n",
    "= \\frac{1}{\\sqrt{2\\pi}}\\int_{t}^{\\infty}\\text{e}^{-\\frac{x^{2}}{2}}\\frac{x}{x}dx\n",
    "= \\frac{1}{\\sqrt{2\\pi}}\\int_{t}^{\\infty}\\text{e}^{-\\frac{x^{2}}{2}}x\\frac{1}{x}dx\n",
    "$$\n",
    "Comme $t \\gt 0$, on a:\n",
    "$$\\frac{1}{\\sqrt{2\\pi}}\\int_{t}^{\\infty}\\text{e}^{-\\frac{x^{2}}{2}}x\\frac{1}{x}dx\n",
    "\\leq \\frac{1}{\\sqrt{2\\pi}}\\int_{t}^{\\infty}\\text{e}^{-\\frac{x^{2}}{2}}x\\frac{1}{t}dx\n",
    "= \\frac{1}{t}\\frac{1}{\\sqrt{2\\pi}}\\int_{t}^{\\infty}\\text{e}^{-\\frac{x^{2}}{2}}xdx\n",
    "= \\frac{1}{t}\\frac{1}{\\sqrt{2\\pi}}[-\\text{e}^{-\\frac{x^{2}}{2}}]_{t}^{\\infty}\n",
    "= \\frac{1}{t}\\frac{1}{\\sqrt{2\\pi}}(0 + \\text{e}^{-\\frac{t^{2}}{2}})\n",
    "= \\frac{1}{t}\\frac{1}{\\sqrt{2\\pi}}\\text{e}^{-\\frac{t^{2}}{2}}\n",
    "$$\n",
    "On a donc:\n",
    "$$Pr(Z \\geq t) \\leq \\frac{1}{t}\\frac{1}{\\sqrt{2\\pi}}\\text{e}^{-\\frac{t^{2}}{2}}$$"
   ]
  },
  {
   "attachments": {},
   "cell_type": "markdown",
   "metadata": {},
   "source": [
    "On a:\n",
    "$$Pr(Z \\geq t) = \\int_{t}^{\\infty}\\frac{1}{\\sqrt{2\\pi}}\\text{e}^{-\\frac{x^{2}}{2}}dx\n",
    "= \\frac{1}{\\sqrt{2\\pi}}\\int_{t}^{\\infty}\\text{e}^{-\\frac{x^{2}}{2}}dx\n",
    "= \\frac{1}{\\sqrt{2\\pi}}\\int_{t}^{\\infty}\\text{e}^{-\\frac{x^{2}}{2}}\\frac{x}{x}dx\n",
    "= \\frac{1}{\\sqrt{2\\pi}}\\int_{t}^{\\infty}\\text{e}^{-\\frac{x^{2}}{2}}x\\frac{1}{x}dx\n",
    "$$\n",
    "Faisons une intégration par partie. Cela nous donne:\n",
    "$$\\frac{1}{\\sqrt{2\\pi}}\\int_{t}^{\\infty}\\text{e}^{-\\frac{x^{2}}{2}}x\\frac{1}{x}dx\n",
    "= \\frac{1}{\\sqrt{2\\pi}}\\int_{t}^{\\infty}(\\text{e}^{-\\frac{x^{2}}{2}}x)'\\frac{1}{x}dx\n",
    "= \\frac{1}{\\sqrt{2\\pi}}([-\\frac{1}{x}\\text{e}^{-\\frac{x^{2}}{2}}]_{t}^{\\infty} - \\int_{t}^{\\infty}-\\text{e}^{-\\frac{x^{2}}{2}}(-\\frac{1}{x^{2}})dx)\n",
    "= \\frac{1}{\\sqrt{2\\pi}}(\\frac{1}{t}\\text{e}^{-\\frac{t^{2}}{2}} - \\int_{t}^{\\infty}-\\text{e}^{-\\frac{x^{2}}{2}}(-\\frac{1}{x^{2}})\\frac{x}{x}dx)\n",
    "= \\frac{1}{\\sqrt{2\\pi}}(\\frac{1}{t}\\text{e}^{-\\frac{t^{2}}{2}} + \\int_{t}^{\\infty}x\\text{e}^{-\\frac{x^{2}}{2}}(-\\frac{1}{x^{3}})dx)\n",
    "$$\n",
    "Comme $t \\gt 0$, on a:\n",
    "$$\\frac{1}{\\sqrt{2\\pi}}(\\frac{1}{t}\\text{e}^{-\\frac{t^{2}}{2}} + \\int_{t}^{\\infty}x\\text{e}^{-\\frac{x^{2}}{2}}(-\\frac{1}{x^{3}})dx)\n",
    "\\geq \\frac{1}{\\sqrt{2\\pi}}(\\frac{1}{t}\\text{e}^{-\\frac{t^{2}}{2}} + \\int_{t}^{\\infty}x\\text{e}^{-\\frac{x^{2}}{2}}(-\\frac{1}{t^{3}})dx)\n",
    "= \\frac{1}{\\sqrt{2\\pi}}(\\frac{1}{t}\\text{e}^{-\\frac{t^{2}}{2}}  -\\frac{1}{t^{3}}\\int_{t}^{\\infty}x\\text{e}^{-\\frac{x^{2}}{2}}dx)\n",
    "= \\frac{1}{\\sqrt{2\\pi}}(\\frac{1}{t}\\text{e}^{-\\frac{t^{2}}{2}}  -\\frac{1}{t^{3}}[-\\text{e}^{-\\frac{x^{2}}{2}}]_{t}^{\\infty})\n",
    "=  \\frac{1}{\\sqrt{2\\pi}}(\\frac{1}{t}\\text{e}^{-\\frac{t^{2}}{2}}  -\\frac{1}{t^{3}}\\text{e}^{-\\frac{t^{2}}{2}})\n",
    "= (\\frac{1}{t} - \\frac{1}{t^{3}}) \\frac{1}{\\sqrt{2\\pi}}\\text{e}^{-\\frac{t^{2}}{2}}\n",
    "$$\n",
    "Donc:\n",
    "$$(\\frac{1}{t} - \\frac{1}{t^{3}}) \\frac{1}{\\sqrt{2\\pi}}\\text{e}^{-\\frac{t^{2}}{2}} \\leq Pr(Z \\geq t)$$\n",
    "On a donc montré que pour tout $t$ tel que $t \\gt 0$, on a:\n",
    "$$(\\frac{1}{t} - \\frac{1}{t^{3}}) \\frac{1}{\\sqrt{2\\pi}}\\text{e}^{-\\frac{t^{2}}{2}} \\leq Pr(Z \\geq t) \\leq \\frac{1}{t}\\frac{1}{\\sqrt{2\\pi}}\\text{e}^{-\\frac{t^{2}}{2}}$$"
   ]
  },
  {
   "cell_type": "markdown",
   "metadata": {},
   "source": []
  }
 ],
 "metadata": {
  "kernelspec": {
   "display_name": "Python 3",
   "language": "python",
   "name": "python3"
  },
  "language_info": {
   "codemirror_mode": {
    "name": "ipython",
    "version": 3
   },
   "file_extension": ".py",
   "mimetype": "text/x-python",
   "name": "python",
   "nbconvert_exporter": "python",
   "pygments_lexer": "ipython3",
   "version": "3.9.2"
  },
  "orig_nbformat": 4
 },
 "nbformat": 4,
 "nbformat_minor": 2
}
