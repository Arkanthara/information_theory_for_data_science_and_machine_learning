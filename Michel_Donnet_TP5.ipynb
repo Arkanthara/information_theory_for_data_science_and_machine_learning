{
 "cells": [
  {
   "attachments": {},
   "cell_type": "markdown",
   "metadata": {},
   "source": [
    "# Problème 1"
   ]
  },
  {
   "attachments": {},
   "cell_type": "markdown",
   "metadata": {},
   "source": [
    "Soit deux variables aléatoires binaires X et Y avec une probabilité\n",
    "conjointe donnée par la table ci-dessous :"
   ]
  },
  {
   "attachments": {},
   "cell_type": "markdown",
   "metadata": {},
   "source": [
    "| X\\Y | 0 | 1 |\n",
    "|---|---|---------------|\n",
    "| 0 | $\\frac{1}{4}$ | 0 |\n",
    "| 1 | $\\frac{1}{4}$ | $\\frac{1}{2}$ |\n"
   ]
  },
  {
   "attachments": {},
   "cell_type": "markdown",
   "metadata": {},
   "source": [
    "Calculez tout d’abord les probabilités marginales et conditionnelles.\n",
    "On a: "
   ]
  },
  {
   "attachments": {},
   "cell_type": "markdown",
   "metadata": {},
   "source": [
    "- Probabilités marginales:\n",
    "$$Pr(X = 0) = p_{XY}(0, 0) + p_{XY}(0, 1) = \\frac{1}{4} + 0 = \\frac{1}{4}$$\n",
    "$$Pr(X = 1) = p_{XY}(1, 0) + p_{XY}(1, 1) = \\frac{1}{4} + \\frac{1}{2} = \\frac{3}{4}$$\n",
    "$$Pr(Y = 0) = p_{XY}(0, 0) + p_{XY}(1, 0) = \\frac{1}{4} + \\frac{1}{4} = \\frac{1}{2}$$\n",
    "$$Pr(Y = 1) = p_{XY}(0, 1) + p_{XY}(1, 1) = 0 + \\frac{1}{2} = \\frac{1}{2}$$"
   ]
  },
  {
   "attachments": {},
   "cell_type": "markdown",
   "metadata": {},
   "source": [
    "- Probabilités conditionnelles:\n",
    "$$Pr(X = 0 | Y = 0) = \\frac{Pr((X = 0) \\wedge (Y = 0))}{Pr(Y = 0)} = \\frac{\\frac{1}{4}}{\\frac{1}{2}} = \\frac{1}{2}$$\n",
    "$$Pr(X = 0 | Y = 1) = \\frac{Pr((X = 0) \\wedge (Y = 1))}{Pr(Y = 1)} = 0$$\n",
    "$$Pr(X = 1 | Y = 0) = \\frac{Pr((X = 1) \\wedge (Y = 0))}{Pr(Y = 0)} = \\frac{\\frac{1}{4}}{\\frac{1}{2}} = \\frac{1}{2}$$\n",
    "$$Pr(X = 1 | Y = 1) = \\frac{Pr((X = 1) \\wedge (Y = 1))}{Pr(Y = 1)} = \\frac{\\frac{1}{2}}{\\frac{1}{2}} = 1$$\n",
    "$$Pr(Y = 0 | X = 0) = \\frac{Pr((Y = 0) \\wedge (X = 0))}{Pr(X = 0)} = \\frac{\\frac{1}{4}}{\\frac{1}{4}} = 1$$\n",
    "$$Pr(Y = 0 | X = 1) = \\frac{Pr((Y = 0) \\wedge (X = 1))}{Pr(X = 1)} = \\frac{\\frac{1}{4}}{\\frac{3}{4}} = \\frac{1}{3}$$\n",
    "$$Pr(Y = 1 | X = 0) = \\frac{Pr((Y = 1) \\wedge (X = 0))}{Pr(X = 0)} = 0$$\n",
    "$$Pr(Y = 1 | X = 1) = \\frac{Pr((Y = 1) \\wedge (X = 1))}{Pr(X = 1)} = \\frac{\\frac{1}{2}}{\\frac{3}{4}} = \\frac{2}{3}$$"
   ]
  },
  {
   "attachments": {},
   "cell_type": "markdown",
   "metadata": {},
   "source": [
    "Calculez:"
   ]
  },
  {
   "attachments": {},
   "cell_type": "markdown",
   "metadata": {},
   "source": [
    "1. $H(X)$\n",
    "\n",
    "On a: \n",
    "$$H(X) = -\\sum_{x \\in X} P_{X}(x)log_{2}P_{X}(x) = \\sum_{x \\in X} P_{X}(x)log_{2}\\frac{1}{P_{X}(x)}$$\n",
    "Soit:\n",
    "$$H(X) = \\sum_{x \\in X} Pr(X = x)log_{2}\\frac{1}{Pr(X = x)} = Pr(X = 0) log_{2}\\frac{1}{Pr(X = 0)} + Pr(X = 1) log_{2}\\frac{1}{Pr(X = 1)} = \\frac{1}{4}log_{2}(4) + \\frac{3}{4}log_2(\\frac{4}{3}) = 0.81$$"
   ]
  },
  {
   "cell_type": "code",
   "execution_count": 5,
   "metadata": {},
   "outputs": [
    {
     "name": "stdout",
     "output_type": "stream",
     "text": [
      "0.8112781244591328\n"
     ]
    }
   ],
   "source": [
    "import numpy as np\n",
    "\n",
    "print(1/4 * 2 + 3/4 * np.log2(4/3))"
   ]
  },
  {
   "attachments": {},
   "cell_type": "markdown",
   "metadata": {},
   "source": [
    "2. $H(Y)$\n",
    "\n",
    "On a:\n",
    "$$ H(Y) = \\sum_{y \\in Y} Pr(Y = y)log_{2}\\frac{1}{Pr(Y = y)} = Pr(Y = 0) log_{2}\\frac{1}{Pr(Y = 0)} + Pr(Y = 1) log_{2}\\frac{1}{Pr(Y = 1)}\n",
    "= \\frac{1}{2}log_2(2) + \\frac{1}{2}log_{2}(2) = \\frac{1}{2} + \\frac{1}{2} = 1$$"
   ]
  },
  {
   "attachments": {},
   "cell_type": "markdown",
   "metadata": {},
   "source": [
    "3. $H(X|Y)$\n",
    "\n",
    "On a:\n",
    "$$H(X|Y) = -\\sum_{x \\in X, y \\in Y}P_{X,Y}(x, y)log_{2}P_{X|Y}(x | y) = \\sum_{x \\in X, y \\in Y}P_{X,Y}(x, y)log_{2}\\frac{1}{P_{X|Y}(x | y)}$$\n",
    "Soit\n",
    "$$H(X|Y) = \\sum_{x \\in X, y \\in Y}Pr(X = x, Y = y)log_{2}\\frac{1}{Pr(X = x | Y = y)}\n",
    "= Pr(X = 0, Y = 0)log_{2}\\frac{1}{Pr(X = 0 | Y = 0)} + \\dots + Pr(X = 1, Y = 1)log_{2}\\frac{1}{Pr(X = 1 | Y = 1)}$$\n",
    "On a donc:\n",
    "$$H(X|Y) = \\frac{1}{4}log_{2}(2) + \\frac{1}{4}log_{2}(2) + 0 + \\frac{1}{2}log_{2}(1) = \\frac{1}{2}$$"
   ]
  },
  {
   "attachments": {},
   "cell_type": "markdown",
   "metadata": {},
   "source": [
    "4. $H(Y|X)$\n",
    "On a:\n",
    "$$H(Y|X) = \\sum_{y \\in Y, x \\in X}Pr(Y = y, X = x)log_{2}\\frac{1}{Pr(Y = y | X = x)} =\n",
    "Pr(Y = 0, X = 0)log_{2}\\frac{1}{Pr(Y = 0 | X = 0)} + \\dots + Pr(Y = 1, X = 1)log_{2}\\frac{1}{Pr(Y = 1 | X = 1)}$$\n",
    "On a donc:\n",
    "$$H(Y | X) = \\frac{1}{4}log_{2}(1) + \\frac{1}{4}log_{2}(3) + 0 + \\frac{1}{2}log_{2}(\\frac{3}{2}) = 0.688"
   ]
  },
  {
   "cell_type": "code",
   "execution_count": 6,
   "metadata": {},
   "outputs": [
    {
     "name": "stdout",
     "output_type": "stream",
     "text": [
      "0.6887218755408671\n"
     ]
    }
   ],
   "source": [
    "print(1/4*np.log2(3) + 1/2*np.log2(3/2))"
   ]
  },
  {
   "attachments": {},
   "cell_type": "markdown",
   "metadata": {},
   "source": [
    "5. $H(X, Y)$\n",
    "\n",
    "On a:\n",
    "$$H(X, Y) =-\\sum_{x \\in X, y \\in Y}P_{X,Y}(x, y)log_{2}P_{X, Y}(x, y) = \\sum_{x \\in X, y \\in Y}P_{X,Y}(x, y)log_{2}\\frac{1}{P_{X, Y}(x,  y)}$$\n",
    "Soit:\n",
    "$$H(X, Y) = \\sum_{x \\in X, y \\in Y}Pr(X = x, Y = y)log_{2}\\frac{1}{Pr(X = x,  Y = y)}\n",
    "= Pr(X = 0, Y = 0)log_{2}\\frac{1}{Pr(X = 0,  Y = 0)} + \\dots + Pr(X = 1, Y = 1)log_{2}\\frac{1}{Pr(X = 1,  Y = 1)}$$\n",
    "Donc:\n",
    "$$H(X, Y) = \\frac{1}{4}log_{2}(4) + \\frac{1}{4}log_{2}(4) + 0 + \\frac{1}{2}log_{2}(2) = 4*\\frac{1}{4} + \\frac{1}{2} = \\frac{5}{4}$$"
   ]
  },
  {
   "attachments": {},
   "cell_type": "markdown",
   "metadata": {},
   "source": [
    "6. $H(X, Y) - H(X) = \\frac{5}{4} - 0.81 = 0.43$"
   ]
  },
  {
   "cell_type": "code",
   "execution_count": 7,
   "metadata": {},
   "outputs": [
    {
     "name": "stdout",
     "output_type": "stream",
     "text": [
      "0.43872187554086717\n"
     ]
    }
   ],
   "source": [
    "print(5/4 - (1/4 * 2 + 3/4 * np.log2(4/3)))"
   ]
  },
  {
   "attachments": {},
   "cell_type": "markdown",
   "metadata": {},
   "source": [
    "7. $H(X, Y) - H(Y) = \\frac{5}{4} - 1 = \\frac{1}{4}$"
   ]
  },
  {
   "attachments": {},
   "cell_type": "markdown",
   "metadata": {},
   "source": [
    "# Problème 2"
   ]
  },
  {
   "attachments": {},
   "cell_type": "markdown",
   "metadata": {},
   "source": [
    "Imaginons quatre variables aléatoires discrètes $X_{1}, X_{2}, X_{3}, X_{4}$ avec\n",
    "les relations statistiques telles qu’indiquées par les deux diagrammes ci-dessous. Pour chaque\n",
    "cas, obtenez la forme la plus simple de :"
   ]
  },
  {
   "attachments": {},
   "cell_type": "markdown",
   "metadata": {},
   "source": [
    "1. $p(x_{1}, x_{2}, x_{3}, x_{4})$\n",
    "- Cas 1:\n",
    "$$p(x_{1}, x_{2}, x_{3}, x_{4}) = p(x_{1})p(x_{2} | x_{1})p(x_3|x_{2}, x_{1})p(x_{4}|x_{3}, x_{2}, x_{1})$$\n",
    "- Cas 2:\n",
    "$$p(x_{1}, x_{2}, x_{3}, x_{4}) = p(x_{1})p(x_{2})p(x_3|x_{1})p(x_{4}|x_{2}, x_{1})$$"
   ]
  },
  {
   "attachments": {},
   "cell_type": "markdown",
   "metadata": {},
   "source": [
    "2. $H(X_{1}, X_{2}, X_{3}, X_{4})$\n",
    "- Cas 1:\n",
    "$$H(X_{1}, X_{2}, X_{3}, X_{4}) = H(X_{1}) + H(X_{2} | X_{1}) + H(X_{3} | X_{2}, X_{1}) + H(X_{4} | X_{3}, X_{2}, X_{1})$$\n",
    "- Cas 2:\n",
    "$$H(X_{1}, X_{2}, X_{3}, X_{4}) = H(X_{1}) + H(X_{2}) + H(X_{3} | X_{1}) + H(X_{4} | X_{2}, X_{1})$$\n"
   ]
  },
  {
   "attachments": {},
   "cell_type": "markdown",
   "metadata": {},
   "source": [
    "# Problème 3"
   ]
  },
  {
   "attachments": {},
   "cell_type": "markdown",
   "metadata": {},
   "source": [
    "Soit deux variables aléatoires X et Y . Montrez que :\n",
    "$$H(X | Y) \\leq H(X)$$\n",
    "On a par définition:\n",
    "$$H(X|Y) =\\sum_{x \\in X, y \\in Y}Pr(X = x, Y = y)log_{2}\\frac{1}{Pr(X = x | Y = y)}$$\n",
    "Or\n",
    "$$Pr(Y = y | X = x) = \\frac{Pr(Y = y, X = x)}{Pr(X = x)} = \\frac{Pr(X = x, Y = y)}{Pr(X = x)}$$\n",
    "Donc\n",
    "$$Pr(X = x, Y = y) = Pr(Y = y| X = x)Pr(X = x)$$\n",
    "On a donc:\n",
    "$$H(X|Y) =\\sum_{x \\in X, y \\in Y}Pr(X = x, Y = y)log_{2}\\frac{1}{Pr(X = x | Y = y)}\n",
    "=\\sum_{x \\in X, y \\in Y}Pr(Y = y| X = x)Pr(X = x)log_{2}\\frac{1}{Pr(X = x | Y = y)}\n",
    "=\\sum_{x \\in X}Pr(X = x)\\sum_{y \\in Y}Pr(Y = y| X = x)log_{2}\\frac{1}{Pr(X = x|Y = y)}$$\n",
    "L'inégalité de Jensen est définie comme suit:\n",
    "\n",
    "Soit f(x) une fonction concave et $\\sum_{i}\\lambda_{i} = 1$. Alors on a:\n",
    "$$f(\\sum_{i}\\lambda_{i}a_{i}) \\geq \\sum_{i}\\lambda_{i}f(a_{i})$$\n",
    "Or on a que:\n",
    "$$log_{2}(x) = \\frac{log(x)}{log(2)}$$\n",
    "Donc\n",
    "$$log_{2}(x)^{'} = \\frac{1}{log(2)}log(x)^{'} = \\frac{1}{log(2)x}$$\n",
    "et\n",
    "$$log_{2}(x)^{''} = (\\frac{1}{log(2)x})^{'} = \\frac{1}{log(2)}(\\frac{1}{x})^{'}\n",
    "= -\\frac{1}{2x^{2}}$$\n",
    "Donc pour $x \\in (0, \\infty)$, on a que $log_{2}(x)^{''} \\lt 0$. Donc $log_{2}$ est concave.\n",
    "\n",
    "Si on prend $\\lambda$ tel que $\\lambda_{y} = Pr(Y = y| X = x)$, alors on a:\n",
    "$$\\sum_{y \\in Y}\\lambda_{y} = \\sum_{y \\in Y}Pr(Y = y | X = x) = 1$$\n",
    "Donc, selon l'inégalité de Jensen, on obtiens:\n",
    "$$\\sum_{x \\in X}Pr(X = x)\\sum_{y \\in Y}Pr(Y = y| X = x)log_{2}\\frac{1}{Pr(X = x|Y = y)}\n",
    "\\leq \\sum_{x \\in X}Pr(X = x)log_{2}\\sum_{y \\in Y}\\frac{Pr(Y = y| X = x)}{Pr(X = x|Y = y)}$$\n",
    "De plus:\n",
    "$$Pr(Y = y| X = x) = \\frac{Pr(X = x, Y = y)}{Pr(X = x)}$$\n",
    "$$Pr(X = x| Y = y) = \\frac{Pr(X = x, Y = y)}{Pr(Y = y)}$$\n",
    "Donc:\n",
    "$$\\sum_{x \\in X}Pr(X = x)log_{2}\\sum_{y \\in Y}\\frac{Pr(Y = y| X = x)}{Pr(X = x|Y = y)}\n",
    "= \\sum_{x \\in X}Pr(X = x)log_{2}\\sum_{y \\in Y}\\frac{Pr(X = x, Y = y)Pr(Y = y)}{Pr( X = x)Pr(X = x, Y = y)}\n",
    "= \\sum_{x \\in X}Pr(X = x)log_{2}\\frac{\\sum_{y \\in Y}Pr(Y = y)}{Pr( X = x)}\n",
    "= \\sum_{x \\in X}Pr(X = x)log_{2}\\frac{1}{Pr( X = x)}\n",
    "= H(X)$$\n",
    "Donc:\n",
    "$$\\boxed{H(X | Y) \\leq H(X)}$$\n"
   ]
  },
  {
   "attachments": {},
   "cell_type": "markdown",
   "metadata": {},
   "source": [
    "# Problème 4"
   ]
  },
  {
   "attachments": {},
   "cell_type": "markdown",
   "metadata": {},
   "source": [
    "Soient des variables aléatoires arbitraires $X_{1} \\dots X_{n}$. Montrez que:\n",
    "$$H(X_{1}, \\dots, X_{n}) \\leq \\sum_{i = 1}^{n}H(X_{i})$$"
   ]
  },
  {
   "attachments": {},
   "cell_type": "markdown",
   "metadata": {},
   "source": [
    "Démontrons ce résultat d'une manière récursive.\n",
    "\n",
    "Soit i = 1. On a:\n",
    "$$H(X_{1}) \\leq \\sum_{i = 1}^{n}H(X_{i}) = H(X_{i})$$\n",
    "Soit i = 2. On a:\n",
    "$$H(X_{1}, X_{2}) = H(X_{1}) + H(X_{2}|X_{1}) \\leq H(X_{1}) + H(X_{2}) \\text{ selon le résultat du problème 3}$$\n",
    "On a donc pour tout n le résultat suivant:\n",
    "$$H(X_{n}| X_{1}, \\dots, X_{n-1}) = H(X_{n}| Y)\\text{ pour }Y = X_{1}, \\dots, X_{n-1}$$\n",
    "Soit:\n",
    "$$H(X_{n}| Y) \\leq H(X_{n}) \\text{ selon le résultat du problème 3.}$$\n",
    "Donc on a:\n",
    "$$H(X_{1}, \\dots, X_{n}) = H(X_{1}) + H(X_{2}|X_{1}) + \\dots + H(X_{n}|X_{1}, \\dots, X_{n-1}) \\leq H(X_{1}) + H(X_{2}) + \\dots + H(X_{n}) = \\sum_{i = 1}^{n}H(X_{i})$$\n",
    "Donc:\n",
    "$$\\boxed{H(X_{1}, \\dots, X_{n}) \\leq \\sum_{i = 1}^{n}H(X_{i})}$$"
   ]
  }
 ],
 "metadata": {
  "kernelspec": {
   "display_name": "Python 3",
   "language": "python",
   "name": "python3"
  },
  "language_info": {
   "codemirror_mode": {
    "name": "ipython",
    "version": 3
   },
   "file_extension": ".py",
   "mimetype": "text/x-python",
   "name": "python",
   "nbconvert_exporter": "python",
   "pygments_lexer": "ipython3",
   "version": "3.9.2"
  },
  "orig_nbformat": 4
 },
 "nbformat": 4,
 "nbformat_minor": 2
}
